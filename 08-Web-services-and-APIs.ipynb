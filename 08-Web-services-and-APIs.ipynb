{
 "cells": [
  {
   "cell_type": "markdown",
   "metadata": {
    "slideshow": {
     "slide_type": "slide"
    }
   },
   "source": [
    "# Web Services and Data Interfaces"
   ]
  },
  {
   "cell_type": "markdown",
   "metadata": {
    "slideshow": {
     "slide_type": "slide"
    }
   },
   "source": [
    "- Data is central to data science"
   ]
  },
  {
   "cell_type": "markdown",
   "metadata": {
    "slideshow": {
     "slide_type": "fragment"
    }
   },
   "source": [
    "- Data collection, storage, and retrieval can get complicated  \n",
    "    e.g. [Google BigTable](https://ai.google/research/pubs/pub27898)"
   ]
  },
  {
   "cell_type": "markdown",
   "metadata": {
    "slideshow": {
     "slide_type": "fragment"
    }
   },
   "source": [
    "- As with NBA data, things can be challenging to reverse engineer websites"
   ]
  },
  {
   "cell_type": "markdown",
   "metadata": {
    "slideshow": {
     "slide_type": "fragment"
    }
   },
   "source": [
    "- And they might block your access..."
   ]
  },
  {
   "cell_type": "markdown",
   "metadata": {
    "slideshow": {
     "slide_type": "fragment"
    }
   },
   "source": [
    "- Web services often provide systematic ways to interact with their site"
   ]
  },
  {
   "cell_type": "code",
   "execution_count": null,
   "metadata": {},
   "outputs": [],
   "source": [
    "!wget https://jupyter.readthedocs.io/en/latest/_images/notebook_components.png -O images/notebook-diagram.png"
   ]
  },
  {
   "cell_type": "markdown",
   "metadata": {
    "slideshow": {
     "slide_type": "slide"
    }
   },
   "source": [
    "## Jupyter Notebooks as a web service\n",
    "\n",
    "![Jupyter diagram](images/notebook-diagram.png)"
   ]
  },
  {
   "cell_type": "markdown",
   "metadata": {
    "slideshow": {
     "slide_type": "slide"
    }
   },
   "source": [
    "## Jupyter Notebooks as a web service <a class='tocSkip'>\n",
    "\n",
    "- What we see and interact with on our browser is called the __frontend__"
   ]
  },
  {
   "cell_type": "markdown",
   "metadata": {
    "slideshow": {
     "slide_type": "fragment"
    }
   },
   "source": [
    "- Our __python code__ is sent to the __backend__ to be fulfilled by the __python kernel__ on some server machine"
   ]
  },
  {
   "cell_type": "markdown",
   "metadata": {
    "slideshow": {
     "slide_type": "fragment"
    }
   },
   "source": [
    "- The frontend and backend communicate using a __communication protocol__, http (hypertext transfer protocol)."
   ]
  },
  {
   "cell_type": "markdown",
   "metadata": {
    "slideshow": {
     "slide_type": "slide"
    }
   },
   "source": [
    "## Example: Downloading NBA Data\n",
    "\n",
    "Take the example of downloading the data from NBA using `wget`."
   ]
  },
  {
   "cell_type": "markdown",
   "metadata": {
    "slideshow": {
     "slide_type": "fragment"
    }
   },
   "source": [
    "* We enter a command in the notebook containing `wget ...nba_url...`"
   ]
  },
  {
   "cell_type": "markdown",
   "metadata": {
    "slideshow": {
     "slide_type": "fragment"
    }
   },
   "source": [
    "* The code is communicated to the python kernel"
   ]
  },
  {
   "cell_type": "markdown",
   "metadata": {
    "slideshow": {
     "slide_type": "fragment"
    }
   },
   "source": [
    "* Python kernel executes the code"
   ]
  },
  {
   "cell_type": "markdown",
   "metadata": {
    "slideshow": {
     "slide_type": "fragment"
    }
   },
   "source": [
    "* Python kernel retrieves the content from `...nba_url...`"
   ]
  },
  {
   "cell_type": "markdown",
   "metadata": {
    "slideshow": {
     "slide_type": "fragment"
    }
   },
   "source": [
    "* The content is communicated back to the running notebook"
   ]
  },
  {
   "cell_type": "markdown",
   "metadata": {
    "slideshow": {
     "slide_type": "fragment"
    }
   },
   "source": [
    "* Notebook interface is updated with the output"
   ]
  },
  {
   "cell_type": "markdown",
   "metadata": {
    "slideshow": {
     "slide_type": "slide"
    }
   },
   "source": [
    "## Frontend: What you see\n",
    "\n",
    "- Frontend is where information is displayed and interactions occur"
   ]
  },
  {
   "cell_type": "markdown",
   "metadata": {
    "slideshow": {
     "slide_type": "fragment"
    }
   },
   "source": [
    "- HTML and CSS are languages for static web content"
   ]
  },
  {
   "cell_type": "markdown",
   "metadata": {
    "slideshow": {
     "slide_type": "fragment"
    }
   },
   "source": [
    "- Javascript provides one way to build dynamic web pages"
   ]
  },
  {
   "cell_type": "markdown",
   "metadata": {
    "slideshow": {
     "slide_type": "fragment"
    }
   },
   "source": [
    "- In fact, HTML, CSS, and Javascript make up the core technologies for the frontend"
   ]
  },
  {
   "cell_type": "markdown",
   "metadata": {
    "slideshow": {
     "slide_type": "fragment"
    }
   },
   "source": [
    "- In the url window, enter `javascript:alert('hello')`"
   ]
  },
  {
   "cell_type": "markdown",
   "metadata": {
    "slideshow": {
     "slide_type": "fragment"
    }
   },
   "source": [
    "- Javascript engine interprets your javascript code"
   ]
  },
  {
   "cell_type": "markdown",
   "metadata": {
    "slideshow": {
     "slide_type": "fragment"
    }
   },
   "source": [
    "- Javascript language is the basis for many frontend libraries"
   ]
  },
  {
   "cell_type": "markdown",
   "metadata": {
    "slideshow": {
     "slide_type": "fragment"
    }
   },
   "source": [
    "- IPython widgets (for selecting basketball players) are such examples."
   ]
  },
  {
   "cell_type": "markdown",
   "metadata": {
    "slideshow": {
     "slide_type": "slide"
    }
   },
   "source": [
    "## Backend: The business end"
   ]
  },
  {
   "cell_type": "markdown",
   "metadata": {
    "slideshow": {
     "slide_type": "fragment"
    }
   },
   "source": [
    "- Backend is the business-end of web services"
   ]
  },
  {
   "cell_type": "markdown",
   "metadata": {
    "slideshow": {
     "slide_type": "fragment"
    }
   },
   "source": [
    "- The backend usually is made up of servers (real or virtual)"
   ]
  },
  {
   "cell_type": "markdown",
   "metadata": {
    "slideshow": {
     "slide_type": "fragment"
    }
   },
   "source": [
    "- that runs web applications (that receive and interprets your requests)"
   ]
  },
  {
   "cell_type": "markdown",
   "metadata": {
    "slideshow": {
     "slide_type": "fragment"
    }
   },
   "source": [
    "- that has access databases (where information is stored)"
   ]
  },
  {
   "cell_type": "markdown",
   "metadata": {
    "slideshow": {
     "slide_type": "fragment"
    }
   },
   "source": [
    "- We usually do not see what goes on in the backend"
   ]
  },
  {
   "cell_type": "markdown",
   "metadata": {
    "slideshow": {
     "slide_type": "fragment"
    }
   },
   "source": [
    "- We are allowed access through service providers' means to communicate."
   ]
  },
  {
   "cell_type": "markdown",
   "metadata": {
    "slideshow": {
     "slide_type": "slide"
    }
   },
   "source": [
    "## Application programming interface (API)\n",
    "\n",
    "- Often web services provide interface to their \"backend\""
   ]
  },
  {
   "cell_type": "markdown",
   "metadata": {
    "slideshow": {
     "slide_type": "fragment"
    }
   },
   "source": [
    "- This is a direct programmable interface to the hosting website"
   ]
  },
  {
   "cell_type": "markdown",
   "metadata": {
    "slideshow": {
     "slide_type": "fragment"
    }
   },
   "source": [
    "- Although unpublished, we used NBA's API to pull JSON data by reverse engineering their site"
   ]
  },
  {
   "cell_type": "markdown",
   "metadata": {
    "slideshow": {
     "slide_type": "fragment"
    }
   },
   "source": [
    "- More often, web service providers sell their data and related services"
   ]
  },
  {
   "cell_type": "markdown",
   "metadata": {
    "slideshow": {
     "slide_type": "fragment"
    }
   },
   "source": [
    "- Providing access is key to their business (unlike NBA)"
   ]
  },
  {
   "cell_type": "markdown",
   "metadata": {
    "slideshow": {
     "slide_type": "slide"
    }
   },
   "source": [
    "### Example: Quandl API with Pandas DataReader\n",
    "\n",
    "- [Quandl](https://www.quandl.com/) is a \"freemium\" financial data provider "
   ]
  },
  {
   "cell_type": "markdown",
   "metadata": {
    "slideshow": {
     "slide_type": "fragment"
    }
   },
   "source": [
    "- Some data are free, some are for purchase with a subscription  \n",
    "    e.g., https://developer.twitter.com/en/pricing/search-30day"
   ]
  },
  {
   "cell_type": "markdown",
   "metadata": {
    "slideshow": {
     "slide_type": "subslide"
    }
   },
   "source": [
    "<table>\n",
    "<tr>\n",
    "    <td><img src='images/quandl-pricing.png'></td>\n",
    "    <td><img src='images/gmail-storage.png'></td>\n",
    "</tr>\n",
    "</table>"
   ]
  },
  {
   "cell_type": "markdown",
   "metadata": {
    "slideshow": {
     "slide_type": "fragment"
    }
   },
   "source": [
    "- Once logged in, go to Account Settings and copy your API key"
   ]
  },
  {
   "cell_type": "markdown",
   "metadata": {
    "slideshow": {
     "slide_type": "fragment"
    }
   },
   "source": [
    "- Choose \"Explore\" and filter setting for \"Free\" data"
   ]
  },
  {
   "cell_type": "markdown",
   "metadata": {
    "slideshow": {
     "slide_type": "fragment"
    }
   },
   "source": [
    "- Choose JSON: https://www.quandl.com/api/v3/datasets/WIKI/AAPL.json?api_key=YOUR_API_KEY"
   ]
  },
  {
   "cell_type": "markdown",
   "metadata": {
    "slideshow": {
     "slide_type": "fragment"
    }
   },
   "source": [
    "- https://help.quandl.com/article/92-how-do-i-download-the-quandl-codes-of-all-the-datasets-in-a-given-database"
   ]
  },
  {
   "cell_type": "markdown",
   "metadata": {
    "slideshow": {
     "slide_type": "slide"
    }
   },
   "source": [
    "### One prepackaged option: `pandas_datareader`\n",
    "\n",
    "- [Pandas datareader](https://pandas-datareader.readthedocs.io/en/latest/) is a packaged interface to various web data sources"
   ]
  },
  {
   "cell_type": "markdown",
   "metadata": {
    "slideshow": {
     "slide_type": "fragment"
    }
   },
   "source": [
    "- Its ocumentation lists that the following are the [data sources](https://pandas-datareader.readthedocs.io/en/latest/remote_data.html) `pandas_datareader` can interface with."
   ]
  },
  {
   "cell_type": "markdown",
   "metadata": {
    "slideshow": {
     "slide_type": "fragment"
    }
   },
   "source": [
    "* Google Finance\n",
    "* Robinhood\n",
    "* Enigma\n",
    "* [Quandl](https://www.quandl.com/)\n",
    "* [St.Louis FED (FRED)](https://fred.stlouisfed.org/)\n",
    "* World Bank\n",
    "* OECD (Organisation for Economic Co-operation and Development)\n",
    "* Nasdaq Trader symbol definitions\n",
    "* [Stooq](https://stooq.com/db/h/)\n",
    "* [MOEX](https://www.moex.com/en/)"
   ]
  },
  {
   "cell_type": "markdown",
   "metadata": {
    "slideshow": {
     "slide_type": "fragment"
    }
   },
   "source": [
    "- The package depends on an existing API (application programming interface)"
   ]
  },
  {
   "cell_type": "markdown",
   "metadata": {
    "slideshow": {
     "slide_type": "fragment"
    }
   },
   "source": [
    "- Things break when the data source website (e.g. Google Finance) make changes."
   ]
  },
  {
   "cell_type": "code",
   "execution_count": 2,
   "metadata": {
    "slideshow": {
     "slide_type": "slide"
    }
   },
   "outputs": [
    {
     "name": "stdout",
     "output_type": "stream",
     "text": [
      "Requirement already satisfied: pandas_datareader in /opt/conda/lib/python3.7/site-packages (0.8.1)\n",
      "Requirement already satisfied: lxml in /opt/conda/lib/python3.7/site-packages (from pandas_datareader) (4.4.1)\n",
      "Requirement already satisfied: pandas>=0.21 in /opt/conda/lib/python3.7/site-packages (from pandas_datareader) (0.25.1)\n",
      "Requirement already satisfied: requests>=2.3.0 in /opt/conda/lib/python3.7/site-packages (from pandas_datareader) (2.12.4)\n",
      "Requirement already satisfied: python-dateutil>=2.6.1 in /opt/conda/lib/python3.7/site-packages (from pandas>=0.21->pandas_datareader) (2.8.0)\n",
      "Requirement already satisfied: pytz>=2017.2 in /opt/conda/lib/python3.7/site-packages (from pandas>=0.21->pandas_datareader) (2019.2)\n",
      "Requirement already satisfied: numpy>=1.13.3 in /opt/conda/lib/python3.7/site-packages (from pandas>=0.21->pandas_datareader) (1.17.2)\n",
      "Requirement already satisfied: six>=1.5 in /opt/conda/lib/python3.7/site-packages (from python-dateutil>=2.6.1->pandas>=0.21->pandas_datareader) (1.12.0)\n"
     ]
    }
   ],
   "source": [
    "!pip install pandas_datareader"
   ]
  },
  {
   "cell_type": "markdown",
   "metadata": {
    "slideshow": {
     "slide_type": "fragment"
    }
   },
   "source": [
    "- Pandas DataReader is connecting to URL following above structure"
   ]
  },
  {
   "cell_type": "code",
   "execution_count": 4,
   "metadata": {
    "slideshow": {
     "slide_type": "slide"
    }
   },
   "outputs": [
    {
     "data": {
      "text/html": [
       "<div>\n",
       "<style scoped>\n",
       "    .dataframe tbody tr th:only-of-type {\n",
       "        vertical-align: middle;\n",
       "    }\n",
       "\n",
       "    .dataframe tbody tr th {\n",
       "        vertical-align: top;\n",
       "    }\n",
       "\n",
       "    .dataframe thead th {\n",
       "        text-align: right;\n",
       "    }\n",
       "</style>\n",
       "<table border=\"1\" class=\"dataframe\">\n",
       "  <thead>\n",
       "    <tr style=\"text-align: right;\">\n",
       "      <th></th>\n",
       "      <th>Open</th>\n",
       "      <th>High</th>\n",
       "      <th>Low</th>\n",
       "      <th>Close</th>\n",
       "      <th>Volume</th>\n",
       "      <th>ExDividend</th>\n",
       "      <th>SplitRatio</th>\n",
       "      <th>AdjOpen</th>\n",
       "      <th>AdjHigh</th>\n",
       "      <th>AdjLow</th>\n",
       "      <th>AdjClose</th>\n",
       "      <th>AdjVolume</th>\n",
       "    </tr>\n",
       "    <tr>\n",
       "      <th>Date</th>\n",
       "      <th></th>\n",
       "      <th></th>\n",
       "      <th></th>\n",
       "      <th></th>\n",
       "      <th></th>\n",
       "      <th></th>\n",
       "      <th></th>\n",
       "      <th></th>\n",
       "      <th></th>\n",
       "      <th></th>\n",
       "      <th></th>\n",
       "      <th></th>\n",
       "    </tr>\n",
       "  </thead>\n",
       "  <tbody>\n",
       "    <tr>\n",
       "      <td>2018-03-27</td>\n",
       "      <td>173.68</td>\n",
       "      <td>175.15</td>\n",
       "      <td>166.92</td>\n",
       "      <td>168.340</td>\n",
       "      <td>38962839.0</td>\n",
       "      <td>0.0</td>\n",
       "      <td>1.0</td>\n",
       "      <td>173.68</td>\n",
       "      <td>175.15</td>\n",
       "      <td>166.92</td>\n",
       "      <td>168.340</td>\n",
       "      <td>38962839.0</td>\n",
       "    </tr>\n",
       "    <tr>\n",
       "      <td>2018-03-26</td>\n",
       "      <td>168.07</td>\n",
       "      <td>173.10</td>\n",
       "      <td>166.44</td>\n",
       "      <td>172.770</td>\n",
       "      <td>36272617.0</td>\n",
       "      <td>0.0</td>\n",
       "      <td>1.0</td>\n",
       "      <td>168.07</td>\n",
       "      <td>173.10</td>\n",
       "      <td>166.44</td>\n",
       "      <td>172.770</td>\n",
       "      <td>36272617.0</td>\n",
       "    </tr>\n",
       "    <tr>\n",
       "      <td>2018-03-23</td>\n",
       "      <td>168.39</td>\n",
       "      <td>169.92</td>\n",
       "      <td>164.94</td>\n",
       "      <td>164.940</td>\n",
       "      <td>40248954.0</td>\n",
       "      <td>0.0</td>\n",
       "      <td>1.0</td>\n",
       "      <td>168.39</td>\n",
       "      <td>169.92</td>\n",
       "      <td>164.94</td>\n",
       "      <td>164.940</td>\n",
       "      <td>40248954.0</td>\n",
       "    </tr>\n",
       "    <tr>\n",
       "      <td>2018-03-22</td>\n",
       "      <td>170.00</td>\n",
       "      <td>172.68</td>\n",
       "      <td>168.60</td>\n",
       "      <td>168.845</td>\n",
       "      <td>41051076.0</td>\n",
       "      <td>0.0</td>\n",
       "      <td>1.0</td>\n",
       "      <td>170.00</td>\n",
       "      <td>172.68</td>\n",
       "      <td>168.60</td>\n",
       "      <td>168.845</td>\n",
       "      <td>41051076.0</td>\n",
       "    </tr>\n",
       "    <tr>\n",
       "      <td>2018-03-21</td>\n",
       "      <td>175.04</td>\n",
       "      <td>175.09</td>\n",
       "      <td>171.26</td>\n",
       "      <td>171.270</td>\n",
       "      <td>35247358.0</td>\n",
       "      <td>0.0</td>\n",
       "      <td>1.0</td>\n",
       "      <td>175.04</td>\n",
       "      <td>175.09</td>\n",
       "      <td>171.26</td>\n",
       "      <td>171.270</td>\n",
       "      <td>35247358.0</td>\n",
       "    </tr>\n",
       "  </tbody>\n",
       "</table>\n",
       "</div>"
      ],
      "text/plain": [
       "              Open    High     Low    Close      Volume  ExDividend  \\\n",
       "Date                                                                  \n",
       "2018-03-27  173.68  175.15  166.92  168.340  38962839.0         0.0   \n",
       "2018-03-26  168.07  173.10  166.44  172.770  36272617.0         0.0   \n",
       "2018-03-23  168.39  169.92  164.94  164.940  40248954.0         0.0   \n",
       "2018-03-22  170.00  172.68  168.60  168.845  41051076.0         0.0   \n",
       "2018-03-21  175.04  175.09  171.26  171.270  35247358.0         0.0   \n",
       "\n",
       "            SplitRatio  AdjOpen  AdjHigh  AdjLow  AdjClose   AdjVolume  \n",
       "Date                                                                    \n",
       "2018-03-27         1.0   173.68   175.15  166.92   168.340  38962839.0  \n",
       "2018-03-26         1.0   168.07   173.10  166.44   172.770  36272617.0  \n",
       "2018-03-23         1.0   168.39   169.92  164.94   164.940  40248954.0  \n",
       "2018-03-22         1.0   170.00   172.68  168.60   168.845  41051076.0  \n",
       "2018-03-21         1.0   175.04   175.09  171.26   171.270  35247358.0  "
      ]
     },
     "execution_count": 4,
     "metadata": {},
     "output_type": "execute_result"
    }
   ],
   "source": [
    "import myapikeys as m # my api keys are saved here\n",
    "import pandas_datareader as dr\n",
    "\n",
    "symbol = 'WIKI/AAPL'  # for Apple stock\n",
    "df = dr.quandl.QuandlReader(symbol, api_key=m.apikeys['quandl']).read()\n",
    "\n",
    "df.head()"
   ]
  },
  {
   "cell_type": "code",
   "execution_count": 5,
   "metadata": {},
   "outputs": [],
   "source": [
    "import myapikeys as m # my api keys are saved here"
   ]
  },
  {
   "cell_type": "code",
   "execution_count": 6,
   "metadata": {},
   "outputs": [
    {
     "name": "stdout",
     "output_type": "stream",
     "text": [
      "hello\n"
     ]
    }
   ],
   "source": [
    "m.hello()"
   ]
  },
  {
   "cell_type": "markdown",
   "metadata": {},
   "source": [
    "### API Keys are like Passwords\n",
    "\n",
    "![stolen api key](images/stolen-api-key.png)"
   ]
  },
  {
   "cell_type": "markdown",
   "metadata": {},
   "source": [
    "### Python Module for Saving API Keys\n",
    "\n",
    "- Python packages contain modules:  \n",
    "    e.g. `import pandas as pd`\n",
    "\n",
    "- A python script file can be a module: `myapikeys.py`  \n",
    "    e.g. `import myapikeys as m`\n",
    "\n",
    "- Keep your API keys in `myapikeys.py`\n",
    "\n",
    "- Users of your code can create their own `myapikeys.py`"
   ]
  },
  {
   "cell_type": "markdown",
   "metadata": {
    "slideshow": {
     "slide_type": "slide"
    }
   },
   "source": [
    "### (Side Note) Bokeh: Interactive visualization library\n",
    "\n",
    "Visualize the output using a more feature-rich package, [Bokeh](https://bokeh.pydata.org/en/latest/). Bokeh provides interactivity with the plots rendered in web browsers"
   ]
  },
  {
   "cell_type": "code",
   "execution_count": 7,
   "metadata": {
    "slideshow": {
     "slide_type": "skip"
    }
   },
   "outputs": [
    {
     "data": {
      "text/html": [
       "\n",
       "    <div class=\"bk-root\">\n",
       "        <a href=\"https://bokeh.pydata.org\" target=\"_blank\" class=\"bk-logo bk-logo-small bk-logo-notebook\"></a>\n",
       "        <span id=\"1002\">Loading BokehJS ...</span>\n",
       "    </div>"
      ]
     },
     "metadata": {},
     "output_type": "display_data"
    },
    {
     "data": {
      "application/javascript": [
       "\n",
       "(function(root) {\n",
       "  function now() {\n",
       "    return new Date();\n",
       "  }\n",
       "\n",
       "  var force = true;\n",
       "\n",
       "  if (typeof root._bokeh_onload_callbacks === \"undefined\" || force === true) {\n",
       "    root._bokeh_onload_callbacks = [];\n",
       "    root._bokeh_is_loading = undefined;\n",
       "  }\n",
       "\n",
       "  var JS_MIME_TYPE = 'application/javascript';\n",
       "  var HTML_MIME_TYPE = 'text/html';\n",
       "  var EXEC_MIME_TYPE = 'application/vnd.bokehjs_exec.v0+json';\n",
       "  var CLASS_NAME = 'output_bokeh rendered_html';\n",
       "\n",
       "  /**\n",
       "   * Render data to the DOM node\n",
       "   */\n",
       "  function render(props, node) {\n",
       "    var script = document.createElement(\"script\");\n",
       "    node.appendChild(script);\n",
       "  }\n",
       "\n",
       "  /**\n",
       "   * Handle when an output is cleared or removed\n",
       "   */\n",
       "  function handleClearOutput(event, handle) {\n",
       "    var cell = handle.cell;\n",
       "\n",
       "    var id = cell.output_area._bokeh_element_id;\n",
       "    var server_id = cell.output_area._bokeh_server_id;\n",
       "    // Clean up Bokeh references\n",
       "    if (id != null && id in Bokeh.index) {\n",
       "      Bokeh.index[id].model.document.clear();\n",
       "      delete Bokeh.index[id];\n",
       "    }\n",
       "\n",
       "    if (server_id !== undefined) {\n",
       "      // Clean up Bokeh references\n",
       "      var cmd = \"from bokeh.io.state import curstate; print(curstate().uuid_to_server['\" + server_id + \"'].get_sessions()[0].document.roots[0]._id)\";\n",
       "      cell.notebook.kernel.execute(cmd, {\n",
       "        iopub: {\n",
       "          output: function(msg) {\n",
       "            var id = msg.content.text.trim();\n",
       "            if (id in Bokeh.index) {\n",
       "              Bokeh.index[id].model.document.clear();\n",
       "              delete Bokeh.index[id];\n",
       "            }\n",
       "          }\n",
       "        }\n",
       "      });\n",
       "      // Destroy server and session\n",
       "      var cmd = \"import bokeh.io.notebook as ion; ion.destroy_server('\" + server_id + \"')\";\n",
       "      cell.notebook.kernel.execute(cmd);\n",
       "    }\n",
       "  }\n",
       "\n",
       "  /**\n",
       "   * Handle when a new output is added\n",
       "   */\n",
       "  function handleAddOutput(event, handle) {\n",
       "    var output_area = handle.output_area;\n",
       "    var output = handle.output;\n",
       "\n",
       "    // limit handleAddOutput to display_data with EXEC_MIME_TYPE content only\n",
       "    if ((output.output_type != \"display_data\") || (!output.data.hasOwnProperty(EXEC_MIME_TYPE))) {\n",
       "      return\n",
       "    }\n",
       "\n",
       "    var toinsert = output_area.element.find(\".\" + CLASS_NAME.split(' ')[0]);\n",
       "\n",
       "    if (output.metadata[EXEC_MIME_TYPE][\"id\"] !== undefined) {\n",
       "      toinsert[toinsert.length - 1].firstChild.textContent = output.data[JS_MIME_TYPE];\n",
       "      // store reference to embed id on output_area\n",
       "      output_area._bokeh_element_id = output.metadata[EXEC_MIME_TYPE][\"id\"];\n",
       "    }\n",
       "    if (output.metadata[EXEC_MIME_TYPE][\"server_id\"] !== undefined) {\n",
       "      var bk_div = document.createElement(\"div\");\n",
       "      bk_div.innerHTML = output.data[HTML_MIME_TYPE];\n",
       "      var script_attrs = bk_div.children[0].attributes;\n",
       "      for (var i = 0; i < script_attrs.length; i++) {\n",
       "        toinsert[toinsert.length - 1].firstChild.setAttribute(script_attrs[i].name, script_attrs[i].value);\n",
       "      }\n",
       "      // store reference to server id on output_area\n",
       "      output_area._bokeh_server_id = output.metadata[EXEC_MIME_TYPE][\"server_id\"];\n",
       "    }\n",
       "  }\n",
       "\n",
       "  function register_renderer(events, OutputArea) {\n",
       "\n",
       "    function append_mime(data, metadata, element) {\n",
       "      // create a DOM node to render to\n",
       "      var toinsert = this.create_output_subarea(\n",
       "        metadata,\n",
       "        CLASS_NAME,\n",
       "        EXEC_MIME_TYPE\n",
       "      );\n",
       "      this.keyboard_manager.register_events(toinsert);\n",
       "      // Render to node\n",
       "      var props = {data: data, metadata: metadata[EXEC_MIME_TYPE]};\n",
       "      render(props, toinsert[toinsert.length - 1]);\n",
       "      element.append(toinsert);\n",
       "      return toinsert\n",
       "    }\n",
       "\n",
       "    /* Handle when an output is cleared or removed */\n",
       "    events.on('clear_output.CodeCell', handleClearOutput);\n",
       "    events.on('delete.Cell', handleClearOutput);\n",
       "\n",
       "    /* Handle when a new output is added */\n",
       "    events.on('output_added.OutputArea', handleAddOutput);\n",
       "\n",
       "    /**\n",
       "     * Register the mime type and append_mime function with output_area\n",
       "     */\n",
       "    OutputArea.prototype.register_mime_type(EXEC_MIME_TYPE, append_mime, {\n",
       "      /* Is output safe? */\n",
       "      safe: true,\n",
       "      /* Index of renderer in `output_area.display_order` */\n",
       "      index: 0\n",
       "    });\n",
       "  }\n",
       "\n",
       "  // register the mime type if in Jupyter Notebook environment and previously unregistered\n",
       "  if (root.Jupyter !== undefined) {\n",
       "    var events = require('base/js/events');\n",
       "    var OutputArea = require('notebook/js/outputarea').OutputArea;\n",
       "\n",
       "    if (OutputArea.prototype.mime_types().indexOf(EXEC_MIME_TYPE) == -1) {\n",
       "      register_renderer(events, OutputArea);\n",
       "    }\n",
       "  }\n",
       "\n",
       "  \n",
       "  if (typeof (root._bokeh_timeout) === \"undefined\" || force === true) {\n",
       "    root._bokeh_timeout = Date.now() + 5000;\n",
       "    root._bokeh_failed_load = false;\n",
       "  }\n",
       "\n",
       "  var NB_LOAD_WARNING = {'data': {'text/html':\n",
       "     \"<div style='background-color: #fdd'>\\n\"+\n",
       "     \"<p>\\n\"+\n",
       "     \"BokehJS does not appear to have successfully loaded. If loading BokehJS from CDN, this \\n\"+\n",
       "     \"may be due to a slow or bad network connection. Possible fixes:\\n\"+\n",
       "     \"</p>\\n\"+\n",
       "     \"<ul>\\n\"+\n",
       "     \"<li>re-rerun `output_notebook()` to attempt to load from CDN again, or</li>\\n\"+\n",
       "     \"<li>use INLINE resources instead, as so:</li>\\n\"+\n",
       "     \"</ul>\\n\"+\n",
       "     \"<code>\\n\"+\n",
       "     \"from bokeh.resources import INLINE\\n\"+\n",
       "     \"output_notebook(resources=INLINE)\\n\"+\n",
       "     \"</code>\\n\"+\n",
       "     \"</div>\"}};\n",
       "\n",
       "  function display_loaded() {\n",
       "    var el = document.getElementById(\"1002\");\n",
       "    if (el != null) {\n",
       "      el.textContent = \"BokehJS is loading...\";\n",
       "    }\n",
       "    if (root.Bokeh !== undefined) {\n",
       "      if (el != null) {\n",
       "        el.textContent = \"BokehJS \" + root.Bokeh.version + \" successfully loaded.\";\n",
       "      }\n",
       "    } else if (Date.now() < root._bokeh_timeout) {\n",
       "      setTimeout(display_loaded, 100)\n",
       "    }\n",
       "  }\n",
       "\n",
       "\n",
       "  function run_callbacks() {\n",
       "    try {\n",
       "      root._bokeh_onload_callbacks.forEach(function(callback) {\n",
       "        if (callback != null)\n",
       "          callback();\n",
       "      });\n",
       "    } finally {\n",
       "      delete root._bokeh_onload_callbacks\n",
       "    }\n",
       "    console.debug(\"Bokeh: all callbacks have finished\");\n",
       "  }\n",
       "\n",
       "  function load_libs(css_urls, js_urls, callback) {\n",
       "    if (css_urls == null) css_urls = [];\n",
       "    if (js_urls == null) js_urls = [];\n",
       "\n",
       "    root._bokeh_onload_callbacks.push(callback);\n",
       "    if (root._bokeh_is_loading > 0) {\n",
       "      console.debug(\"Bokeh: BokehJS is being loaded, scheduling callback at\", now());\n",
       "      return null;\n",
       "    }\n",
       "    if (js_urls == null || js_urls.length === 0) {\n",
       "      run_callbacks();\n",
       "      return null;\n",
       "    }\n",
       "    console.debug(\"Bokeh: BokehJS not loaded, scheduling load and callback at\", now());\n",
       "    root._bokeh_is_loading = css_urls.length + js_urls.length;\n",
       "\n",
       "    function on_load() {\n",
       "      root._bokeh_is_loading--;\n",
       "      if (root._bokeh_is_loading === 0) {\n",
       "        console.debug(\"Bokeh: all BokehJS libraries/stylesheets loaded\");\n",
       "        run_callbacks()\n",
       "      }\n",
       "    }\n",
       "\n",
       "    function on_error() {\n",
       "      console.error(\"failed to load \" + url);\n",
       "    }\n",
       "\n",
       "    for (var i = 0; i < css_urls.length; i++) {\n",
       "      var url = css_urls[i];\n",
       "      const element = document.createElement(\"link\");\n",
       "      element.onload = on_load;\n",
       "      element.onerror = on_error;\n",
       "      element.rel = \"stylesheet\";\n",
       "      element.type = \"text/css\";\n",
       "      element.href = url;\n",
       "      console.debug(\"Bokeh: injecting link tag for BokehJS stylesheet: \", url);\n",
       "      document.body.appendChild(element);\n",
       "    }\n",
       "\n",
       "    for (var i = 0; i < js_urls.length; i++) {\n",
       "      var url = js_urls[i];\n",
       "      var element = document.createElement('script');\n",
       "      element.onload = on_load;\n",
       "      element.onerror = on_error;\n",
       "      element.async = false;\n",
       "      element.src = url;\n",
       "      console.debug(\"Bokeh: injecting script tag for BokehJS library: \", url);\n",
       "      document.head.appendChild(element);\n",
       "    }\n",
       "  };var element = document.getElementById(\"1002\");\n",
       "  if (element == null) {\n",
       "    console.error(\"Bokeh: ERROR: autoload.js configured with elementid '1002' but no matching script tag was found. \")\n",
       "    return false;\n",
       "  }\n",
       "\n",
       "  function inject_raw_css(css) {\n",
       "    const element = document.createElement(\"style\");\n",
       "    element.appendChild(document.createTextNode(css));\n",
       "    document.body.appendChild(element);\n",
       "  }\n",
       "\n",
       "  var js_urls = [\"https://cdn.pydata.org/bokeh/release/bokeh-1.3.4.min.js\", \"https://cdn.pydata.org/bokeh/release/bokeh-widgets-1.3.4.min.js\", \"https://cdn.pydata.org/bokeh/release/bokeh-tables-1.3.4.min.js\", \"https://cdn.pydata.org/bokeh/release/bokeh-gl-1.3.4.min.js\"];\n",
       "  var css_urls = [];\n",
       "\n",
       "  var inline_js = [\n",
       "    function(Bokeh) {\n",
       "      Bokeh.set_log_level(\"info\");\n",
       "    },\n",
       "    \n",
       "    function(Bokeh) {\n",
       "      \n",
       "    },\n",
       "    function(Bokeh) {} // ensure no trailing comma for IE\n",
       "  ];\n",
       "\n",
       "  function run_inline_js() {\n",
       "    \n",
       "    if ((root.Bokeh !== undefined) || (force === true)) {\n",
       "      for (var i = 0; i < inline_js.length; i++) {\n",
       "        inline_js[i].call(root, root.Bokeh);\n",
       "      }if (force === true) {\n",
       "        display_loaded();\n",
       "      }} else if (Date.now() < root._bokeh_timeout) {\n",
       "      setTimeout(run_inline_js, 100);\n",
       "    } else if (!root._bokeh_failed_load) {\n",
       "      console.log(\"Bokeh: BokehJS failed to load within specified timeout.\");\n",
       "      root._bokeh_failed_load = true;\n",
       "    } else if (force !== true) {\n",
       "      var cell = $(document.getElementById(\"1002\")).parents('.cell').data().cell;\n",
       "      cell.output_area.append_execute_result(NB_LOAD_WARNING)\n",
       "    }\n",
       "\n",
       "  }\n",
       "\n",
       "  if (root._bokeh_is_loading === 0) {\n",
       "    console.debug(\"Bokeh: BokehJS loaded, going straight to plotting\");\n",
       "    run_inline_js();\n",
       "  } else {\n",
       "    load_libs(css_urls, js_urls, function() {\n",
       "      console.debug(\"Bokeh: BokehJS plotting callback run at\", now());\n",
       "      run_inline_js();\n",
       "    });\n",
       "  }\n",
       "}(window));"
      ],
      "application/vnd.bokehjs_load.v0+json": "\n(function(root) {\n  function now() {\n    return new Date();\n  }\n\n  var force = true;\n\n  if (typeof root._bokeh_onload_callbacks === \"undefined\" || force === true) {\n    root._bokeh_onload_callbacks = [];\n    root._bokeh_is_loading = undefined;\n  }\n\n  \n\n  \n  if (typeof (root._bokeh_timeout) === \"undefined\" || force === true) {\n    root._bokeh_timeout = Date.now() + 5000;\n    root._bokeh_failed_load = false;\n  }\n\n  var NB_LOAD_WARNING = {'data': {'text/html':\n     \"<div style='background-color: #fdd'>\\n\"+\n     \"<p>\\n\"+\n     \"BokehJS does not appear to have successfully loaded. If loading BokehJS from CDN, this \\n\"+\n     \"may be due to a slow or bad network connection. Possible fixes:\\n\"+\n     \"</p>\\n\"+\n     \"<ul>\\n\"+\n     \"<li>re-rerun `output_notebook()` to attempt to load from CDN again, or</li>\\n\"+\n     \"<li>use INLINE resources instead, as so:</li>\\n\"+\n     \"</ul>\\n\"+\n     \"<code>\\n\"+\n     \"from bokeh.resources import INLINE\\n\"+\n     \"output_notebook(resources=INLINE)\\n\"+\n     \"</code>\\n\"+\n     \"</div>\"}};\n\n  function display_loaded() {\n    var el = document.getElementById(\"1002\");\n    if (el != null) {\n      el.textContent = \"BokehJS is loading...\";\n    }\n    if (root.Bokeh !== undefined) {\n      if (el != null) {\n        el.textContent = \"BokehJS \" + root.Bokeh.version + \" successfully loaded.\";\n      }\n    } else if (Date.now() < root._bokeh_timeout) {\n      setTimeout(display_loaded, 100)\n    }\n  }\n\n\n  function run_callbacks() {\n    try {\n      root._bokeh_onload_callbacks.forEach(function(callback) {\n        if (callback != null)\n          callback();\n      });\n    } finally {\n      delete root._bokeh_onload_callbacks\n    }\n    console.debug(\"Bokeh: all callbacks have finished\");\n  }\n\n  function load_libs(css_urls, js_urls, callback) {\n    if (css_urls == null) css_urls = [];\n    if (js_urls == null) js_urls = [];\n\n    root._bokeh_onload_callbacks.push(callback);\n    if (root._bokeh_is_loading > 0) {\n      console.debug(\"Bokeh: BokehJS is being loaded, scheduling callback at\", now());\n      return null;\n    }\n    if (js_urls == null || js_urls.length === 0) {\n      run_callbacks();\n      return null;\n    }\n    console.debug(\"Bokeh: BokehJS not loaded, scheduling load and callback at\", now());\n    root._bokeh_is_loading = css_urls.length + js_urls.length;\n\n    function on_load() {\n      root._bokeh_is_loading--;\n      if (root._bokeh_is_loading === 0) {\n        console.debug(\"Bokeh: all BokehJS libraries/stylesheets loaded\");\n        run_callbacks()\n      }\n    }\n\n    function on_error() {\n      console.error(\"failed to load \" + url);\n    }\n\n    for (var i = 0; i < css_urls.length; i++) {\n      var url = css_urls[i];\n      const element = document.createElement(\"link\");\n      element.onload = on_load;\n      element.onerror = on_error;\n      element.rel = \"stylesheet\";\n      element.type = \"text/css\";\n      element.href = url;\n      console.debug(\"Bokeh: injecting link tag for BokehJS stylesheet: \", url);\n      document.body.appendChild(element);\n    }\n\n    for (var i = 0; i < js_urls.length; i++) {\n      var url = js_urls[i];\n      var element = document.createElement('script');\n      element.onload = on_load;\n      element.onerror = on_error;\n      element.async = false;\n      element.src = url;\n      console.debug(\"Bokeh: injecting script tag for BokehJS library: \", url);\n      document.head.appendChild(element);\n    }\n  };var element = document.getElementById(\"1002\");\n  if (element == null) {\n    console.error(\"Bokeh: ERROR: autoload.js configured with elementid '1002' but no matching script tag was found. \")\n    return false;\n  }\n\n  function inject_raw_css(css) {\n    const element = document.createElement(\"style\");\n    element.appendChild(document.createTextNode(css));\n    document.body.appendChild(element);\n  }\n\n  var js_urls = [\"https://cdn.pydata.org/bokeh/release/bokeh-1.3.4.min.js\", \"https://cdn.pydata.org/bokeh/release/bokeh-widgets-1.3.4.min.js\", \"https://cdn.pydata.org/bokeh/release/bokeh-tables-1.3.4.min.js\", \"https://cdn.pydata.org/bokeh/release/bokeh-gl-1.3.4.min.js\"];\n  var css_urls = [];\n\n  var inline_js = [\n    function(Bokeh) {\n      Bokeh.set_log_level(\"info\");\n    },\n    \n    function(Bokeh) {\n      \n    },\n    function(Bokeh) {} // ensure no trailing comma for IE\n  ];\n\n  function run_inline_js() {\n    \n    if ((root.Bokeh !== undefined) || (force === true)) {\n      for (var i = 0; i < inline_js.length; i++) {\n        inline_js[i].call(root, root.Bokeh);\n      }if (force === true) {\n        display_loaded();\n      }} else if (Date.now() < root._bokeh_timeout) {\n      setTimeout(run_inline_js, 100);\n    } else if (!root._bokeh_failed_load) {\n      console.log(\"Bokeh: BokehJS failed to load within specified timeout.\");\n      root._bokeh_failed_load = true;\n    } else if (force !== true) {\n      var cell = $(document.getElementById(\"1002\")).parents('.cell').data().cell;\n      cell.output_area.append_execute_result(NB_LOAD_WARNING)\n    }\n\n  }\n\n  if (root._bokeh_is_loading === 0) {\n    console.debug(\"Bokeh: BokehJS loaded, going straight to plotting\");\n    run_inline_js();\n  } else {\n    load_libs(css_urls, js_urls, function() {\n      console.debug(\"Bokeh: BokehJS plotting callback run at\", now());\n      run_inline_js();\n    });\n  }\n}(window));"
     },
     "metadata": {},
     "output_type": "display_data"
    }
   ],
   "source": [
    "from bokeh.io import push_notebook, show, output_notebook\n",
    "from bokeh.layouts import row\n",
    "from bokeh.plotting import figure\n",
    "output_notebook()"
   ]
  },
  {
   "cell_type": "markdown",
   "metadata": {
    "slideshow": {
     "slide_type": "slide"
    }
   },
   "source": [
    "Open, High, Low, Close (OHLC) data is often visualized with candle sticks:"
   ]
  },
  {
   "cell_type": "code",
   "execution_count": 8,
   "metadata": {
    "slideshow": {
     "slide_type": "fragment"
    }
   },
   "outputs": [
    {
     "data": {
      "text/html": [
       "\n",
       "\n",
       "\n",
       "\n",
       "\n",
       "\n",
       "  <div class=\"bk-root\" id=\"b9ce39a2-23da-46cc-9d9f-d5ee5c94fea7\" data-root-id=\"1003\"></div>\n"
      ]
     },
     "metadata": {},
     "output_type": "display_data"
    },
    {
     "data": {
      "application/javascript": [
       "(function(root) {\n",
       "  function embed_document(root) {\n",
       "    \n",
       "  var docs_json = {\"cec22a03-c809-4669-a80e-d47503b6b3a3\":{\"roots\":{\"references\":[{\"attributes\":{\"below\":[{\"id\":\"1014\",\"type\":\"DatetimeAxis\"}],\"center\":[{\"id\":\"1018\",\"type\":\"Grid\"},{\"id\":\"1023\",\"type\":\"Grid\"}],\"left\":[{\"id\":\"1019\",\"type\":\"LinearAxis\"}],\"plot_height\":400,\"plot_width\":750,\"renderers\":[{\"id\":\"1040\",\"type\":\"GlyphRenderer\"},{\"id\":\"1045\",\"type\":\"GlyphRenderer\"},{\"id\":\"1050\",\"type\":\"GlyphRenderer\"}],\"title\":{\"id\":\"1004\",\"type\":\"Title\"},\"toolbar\":{\"id\":\"1030\",\"type\":\"Toolbar\"},\"x_range\":{\"id\":\"1006\",\"type\":\"DataRange1d\"},\"x_scale\":{\"id\":\"1010\",\"type\":\"LinearScale\"},\"y_range\":{\"id\":\"1008\",\"type\":\"DataRange1d\"},\"y_scale\":{\"id\":\"1012\",\"type\":\"LinearScale\"}},\"id\":\"1003\",\"subtype\":\"Figure\",\"type\":\"Plot\"},{\"attributes\":{\"days\":[1,8,15,22]},\"id\":\"1062\",\"type\":\"DaysTicker\"},{\"attributes\":{\"source\":{\"id\":\"1042\",\"type\":\"ColumnDataSource\"}},\"id\":\"1046\",\"type\":\"CDSView\"},{\"attributes\":{\"data_source\":{\"id\":\"1042\",\"type\":\"ColumnDataSource\"},\"glyph\":{\"id\":\"1043\",\"type\":\"VBar\"},\"hover_glyph\":null,\"muted_glyph\":null,\"nonselection_glyph\":{\"id\":\"1044\",\"type\":\"VBar\"},\"selection_glyph\":null,\"view\":{\"id\":\"1046\",\"type\":\"CDSView\"}},\"id\":\"1045\",\"type\":\"GlyphRenderer\"},{\"attributes\":{\"overlay\":{\"id\":\"1075\",\"type\":\"BoxAnnotation\"}},\"id\":\"1026\",\"type\":\"BoxZoomTool\"},{\"attributes\":{\"days\":[1,15]},\"id\":\"1063\",\"type\":\"DaysTicker\"},{\"attributes\":{},\"id\":\"1027\",\"type\":\"SaveTool\"},{\"attributes\":{\"months\":[0,1,2,3,4,5,6,7,8,9,10,11]},\"id\":\"1064\",\"type\":\"MonthsTicker\"},{\"attributes\":{},\"id\":\"1028\",\"type\":\"ResetTool\"},{\"attributes\":{\"months\":[0,2,4,6,8,10]},\"id\":\"1065\",\"type\":\"MonthsTicker\"},{\"attributes\":{\"text\":\"AAPL Candlestick\"},\"id\":\"1004\",\"type\":\"Title\"},{\"attributes\":{\"callback\":null},\"id\":\"1006\",\"type\":\"DataRange1d\"},{\"attributes\":{},\"id\":\"1029\",\"type\":\"HelpTool\"},{\"attributes\":{\"months\":[0,4,8]},\"id\":\"1066\",\"type\":\"MonthsTicker\"},{\"attributes\":{\"active_drag\":\"auto\",\"active_inspect\":\"auto\",\"active_multi\":null,\"active_scroll\":\"auto\",\"active_tap\":\"auto\",\"tools\":[{\"id\":\"1024\",\"type\":\"PanTool\"},{\"id\":\"1025\",\"type\":\"WheelZoomTool\"},{\"id\":\"1026\",\"type\":\"BoxZoomTool\"},{\"id\":\"1027\",\"type\":\"SaveTool\"},{\"id\":\"1028\",\"type\":\"ResetTool\"},{\"id\":\"1029\",\"type\":\"HelpTool\"}]},\"id\":\"1030\",\"type\":\"Toolbar\"},{\"attributes\":{\"callback\":null,\"data\":{\"bottom\":{\"__ndarray__\":\"exSuR+EKZUCuR+F6FJ5kQNejcD0KG2VAcT0K16NoZUCamZmZmellQHE9CtejQGZArkfhehROZkDXo3A9Cn9mQD0K16NwFWZAAAAAAADgZUCkcD0K10NmQBSuR+F6TGZACtejcD1iZUAzMzMzM3tlQNejcD0Kf2NACtejcD1qY0DhehSuR/FjQEjhehSur2NApHA9CtcLZEAfhetRuP5kQLgehetRcGVA7FG4HoVjZUDXo3A9CsdlQOF6FK5HIWZAAAAAAAAgZkAfhetRuE5mQLgehetRaGZArkfhehQGZkDD9Shcj8plQI/C9Shch2VAj8L1KFwnZUAK16NwPVJlQDMzMzMzy2VA4XoUrkfRZUDXo3A9CodlQHE9CtejiGVAZmZmZmZ2ZUCkcD0K1ytlQJqZmZmZOWVAj8L1KFwvZUAK16NwPaJlQHsUrkfhwmVA16NwPQrfZUCPwvUoXD9lQM3MzMzMRGVAMzMzMzNjZUDD9ShcjyJlQHsUrkfhamVAPQrXo3DVZUAAAAAAAJBlQBSuR+F63GRAKVyPwvWMY0A9CtejcIVjQIXrUbgehWNAj8L1KFx/Y0C4HoXrUfhjQAAAAAAAgGNAzczMzMx8Y0AtIR/0bC5jQFK4HoXrOWNAKVyPwvUoY0AUrkfhevxiQBSuR+F6LGNACtejcD2CY0CPwvUoXNdjQD0K16Nw1WNAKVyPwvXIY0DNzMzMzPRjQArXo3A9GmRAXI/C9SjUY0C4HoXrUShkQIXrUbgePWRAw/UoXI9CZECamZmZmYFkQDMzMzMza2RAcT0K16PoY0AfhetRuKZjQAAAAAAAsGNApHA9Cte7Y0BmZmZmZh5kQHE9CtejaGNACtejcD1yY0AUrkfheqRjQDMzMzMzm2JAAAAAAACwYkBSuB6F69FiQHsUrkfhymJASOF6FK43YkCPwvUoXNdhQAAAAAAA8GFAcT0K16MAYkD2KFyPwvVhQEjhehSu92FACtejcD06YkBcj8L1KDRiQLgehetRIGJAcT0K16PIYUCF61G4HiViQHsUrkfhUmJACtejcD0qYkCPwvUoXJ9iQEjhehSuX2NA9ihcj8I9Y0C4HoXrURhjQOxRuB6FM2NAexSuR+EqY0CamZmZmTljQEjhehSuP2NAH4XrUbgeY0AAAAAAAMhiQNejcD0Kb2NAZmZmZmZ2Y0C4HoXrUShjQLgehetRcGJAzczMzMz0YUDhehSuR/lhQJSHhVrT9GFAcT0K16PIYUD2KFyPwpVhQGZmZmZmpmFAmpmZmZmhYUBcj8L1KLRhQD0K16Nw5WFAexSuR+HqYUCF61G4HvVhQHE9CtejAGJAZmZmZmb2YUCF61G4HvVhQPYoXI/C/WFAFK5H4XqUYUA9CtejcJ1hQHsUrkfhemFASOF6FK5/YUCuR+F6FJZhQEjhehSuX2FAFK5H4XpkYUD2KFyPwlVhQHsUrkfhamFAH4XrUbheYUBI4XoUrh9hQPYoXI/CHWFAKVyPwvUQYUDXo3A9CutgQLgehetR8GBApHA9CteDYEDNzMzMzHxeQAAAAAAAAF5Aj8L1KFz/XUDD9Shcj8JdQBSuR+F69FxAcT0K16MwXUDD9ShcjxJdQK5H4XoU/lxA16NwPQpHW0CPwvUoXF9bQOF6FK5HoVtAH4XrUbjOW0AzMzMzM/NbQD0K16NwbVpAw/UoXI/yWkCF61G4HnVbQI/C9Shc31tAw/UoXI9iXECuR+F6FG5cQB+F61G4nlxAZmZmZmYmXUBI4XoUrkddQK5H4XoUXl1AuB6F61FoXUD2KFyPwlVdQDMzMzMzE11ApHA9CteDXEAzMzMzM0NcQAAAAAAAQFxA4XoUrkchXEDsUbgehQtcQD0K16NwLVxAMzMzMzNjXECF61G4HmVcQHsUrkfhulxAuB6F61HIWUDhehSuR2FaQM3MzMzM7FpAXI/C9Si8WkBSuB6F6wFbQHE9CtejIFtAhetRuB5FW0C4HoXrUVhbQOxRuB6F+1pAAAAAAAAAW0AfhetRuB5aQM3MzMzMvFlAexSuR+EqWED2KFyPwlVYQArXo3A9qlhA7FG4HoXbWEA9CtejcP1YQFK4HoXrsVhASOF6FK43WECPwvUoXL9XQMP1KFyPAldAMzMzMzPjV0BmZmZmZsZXQIXrUbge1VdAKVyPwvVIWED2KFyPwlVYQFyPwvUovFhAUrgehevBWEA9CtejcJ1YQM3MzMzMjFdAj8L1KFxfV0D2KFyPwpVWQHE9CtejIFdAw/UoXI8yV0CuR+F6FC5XQI/C9ShcT1dAXI/C9SiMV0ApXI/C9WhXQI/C9Shcb1dAhetRuB61V0CuR+F6FH5aQArXo3A9ulpAH4XrUbjeWkBmZmZmZnZbQArXo3A9KltAw/UoXI8iW0CPwvUoXD9bQFyPwvUoTFpAuB6F61GIWkAK16NwPXpaQHsUrkfhelpAexSuR+FKWUBI4XoUrkdZQEjhehSud1lAXI/C9SgsWEAK16NwPTpYQFyPwvUorFdAcT0K16MQWECPwvUoXH9XQM3MzMzMbFdA4XoUrkeRV0DhehSuR4FXQB+F61G4nldA7FG4HoUbWEB7FK5H4VpXQFyPwvUo3FhAMzMzMzMTWEAK16NwPSpYQClcj8L1WFhAPQrXo3D9WEBSuB6F66FYQD0K16NwPVhAzczMzMwcWEA9CtejcK1ZQHE9CtejUFpAFK5H4XrUWkAUrkfherRaQFK4HoXrAVtAH4XrUbjOWkBSuB6F64FaQB+F61G4PltAj8L1KFyfW0DsUbgehUtcQEjhehSu51xAUrgeheuRXUDNzMzMzMxcQFK4HoXrEV1A9ihcj8JVXUCkcD0K13NdQFK4HoXrgV1AAAAAAABwXUBcj8L1KGxcQPYoXI/CFVxArkfhehTuXEDXo3A9CgddQOF6FK5HMV1AFK5H4XokXkCkcD0K10NeQHsUrkfhOl5AAAAAAACAXkAAAAAAAOBdQDMzMzMzo1xAUrgehevRXEBxPQrXo3BcQMP1KFyPwltAPQrXo3CNW0BmZmZmZuZbQAAAAAAAYFtAUrgeheuxW0DNzMzMzHxbQKRwPQrXQ1tAXI/C9SgcXEA9CtejcK1cQHsUrkfhelxApHA9CtfTXECamZmZmYlbQEjhehSul1tArkfhehTuWkCPwvUoXO9ZQHE9CtejcFpAmpmZmZkpXEBxPQrXo8BcQJqZmZmZyVxAj8L1KFxfXEC4HoXrUchcQClcj8L1qFxAXI/C9SicXUAzMzMzM1NeQI/C9Shcv15A4XoUrkexXkAAAAAAACBfQArXo3A9Sl9AAAAAAABYYEDXo3A9CmdfQBSuR+F6BF5AFK5H4XqkXkBcj8L1KGxfQGZmZmZmpl9AMzMzMzNbX0BSuB6F6yFfQAAAAAAAsF9AAAAAAADgX0BSuB6F68FfQGZmZmZmpl9AMzMzMzPTX0B7FK5H4cpfQHsUrkfhEmBAMzMzMzPzX0DNzMzMzBRgQOxRuB6FK2BApHA9CtdDYECF61G4HlFgQClcj8L1SGBAKVyPwvV4YECkcD0K1zNgQArXo3A9QmBAcT0K16MYYEBxPQrXo4BfQBSuR+F6lF9AcT0K16NAX0AzMzMzM3NfQGZmZmZmFmBAmpmZmZlJX0AUrkfhehRgQFK4HoXrUWBAKVyPwvVIYEAK16NwPbpfQAAAAAAAMF9AexSuR+GKX0AzMzMzM5NfQGZmZmZmtl9AZmZmZmZmX0BxPQrXo4BfQAAAAAAAEF9A7FG4HoUbX0AAAAAAANBeQLgehetR2F5AXI/C9SisX0CamZmZmXlfQEjhehSu319A9ihcj8LlXkCPwvUoXI9eQHE9CtejIF9AKVyPwvXIX0BmZmZmZqZfQArXo3A9ml9A4XoUrkcRYEB7FK5H4SJgQB+F61G4DmBA4XoUrkcZYEA9CtejcIVgQGZmZmZmDmBAhetRuB7FX0DsUbgehbtdQFyPwvUo/F1ACtejcD1KXUCkcD0K19NcQClcj8L1SFtAZmZmZmZGXECPwvUoXH9aQBSuR+F6tFpArkfhehSOW0AAAAAAAFBbQHE9CtejAFxAcT0K16OQWkAAAAAAAJBaQIXrUbgeVVtAuB6F61GYW0DhehSuRyFcQHE9CtejAFxAw/UoXI8iXEBSuB6F6/FbQGZmZmZmDltAH4XrUbhuW0BI4XoUrudbQM3MzMzM/FtAmpmZmZkZXEAAAAAAAMBcQI/C9Shc31xAFK5H4XrEXEDsUbgehbtdQGZmZmZmZl1ArkfhehQeXUA=\",\"dtype\":\"float64\",\"shape\":[403]},\"top\":{\"__ndarray__\":\"9ihcj8K1ZUAUrkfhegxlQAAAAAAAQGVA4XoUrkfhZUAK16NwPSpmQM3MzMzMVGZACtejcD2KZkB7FK5H4dJmQIXrUbgePWZA4XoUrkdRZkC4HoXrUWhmQDMzMzMzY2ZAw/UoXI+aZUCamZmZmYFlQArXo3A9omNA4XoUrkcJZEAfhetRuGJkQDMzMzMz42NAAAAAAADAZECF61G4HkVlQAAAAAAAgGVAXI/C9SjQZUAAAAAAAChmQJqZmZmZKWZAmpmZmZkpZkDsUbgehVNmQKRwPQrXa2ZAzczMzMw8ZkCamZmZmdFlQClcj8L1kGVAcT0K16NQZUCamZmZmVllQKRwPQrX22VAKVyPwvXgZUDNzMzMzIxlQAAAAAAAkGVAzczMzMyEZUBI4XoUrk9lQI/C9Shcj2VAXI/C9SiUZUCamZmZmcllQJqZmZmZ4WVAMzMzMzPjZUDhehSuR0llQOF6FK5HYWVA9ihcj8JlZUDXo3A9Cj9lQOF6FK5HoWVA7FG4HoXjZUAAAAAAAMBlQKRwPQrXO2VAhetRuB6dY0AUrkfhepxjQOxRuB6Fk2NAAAAAAACYY0A9CtejcA1kQDMzMzMzi2NA9ihcj8KBY0Bcj8L1KDRjQLgehetRSGNAFK5H4Xo8Y0BxPQrXowBjQJqZmZmZeWNAzczMzMy8Y0C4HoXrUfBjQOxRuB6FA2RASOF6FK7fY0CkcD0K1/tjQOxRuB6FU2RA7FG4HoUbZEB7FK5H4UJkQB+F61G4VmRAAAAAAAB4ZECamZmZmZlkQJqZmZmZeWRA9ihcj8INZEAAAAAAALBjQOxRuB6Fu2NAcT0K16MQZECuR+F6FD5kQM3MzMzM/GNAmpmZmZmhY0ApXI/C9ehjQM3MzMzMvGJAFK5H4Xq8YkAAAAAAADhjQAAAAAAA8GJApHA9Ctc7YkBxPQrXo+BhQFyPwvUoHGJAZmZmZmYOYkAfhetRuBZiQLgehetRIGJAPQrXo3BlYkBxPQrXozhiQKRwPQrXW2JAKVyPwvX4YUAAAAAAAHBiQIXrUbgeZWJASOF6FK43YkCuR+F6FGZjQAAAAAAAaGNAexSuR+FKY0DXo3A9Cj9jQAAAAAAAQGNAexSuR+E6Y0DNzMzMzFxjQAAAAAAAQGNAXI/C9SgsY0AzMzMzMzNjQK5H4XoUfmNAuB6F61GAY0Bcj8L1KDRjQOF6FK5HcWJAexSuR+ECYkDsUbgehf1hQNejcD0KD2JArkfhehTOYUBcj8L1KLxhQIXrUbgerWFAhetRuB69YUCuR+F6FN5hQDMzMzMz82FAj8L1KFz3YUDhehSuRwliQNejcD0KB2JAH4XrUbj2YUDXo3A9CvdhQK5H4XoUBmJAAAAAAACwYUC4HoXrUahhQOxRuB6Fw2FAAAAAAACgYUDXo3A9CpdhQJqZmZmZaWFAAAAAAABoYUBI4XoUrldhQEjhehSua2FAAAAAAACAYUDD9ShcjyJhQBSuR+F6JGFAXI/C9SgsYUA9CtejcPVgQHE9Ctej8GBAH4XrUbiOYEApXI/C9YheQM3MzMzMHF5AAAAAAAAAXkDXo3A9CsddQJqZmZmZKV1A4XoUrkdhXUBmZmZmZhZdQK5H4XoUHl1AAAAAAACAW0CPwvUoXJdbQKRwPQrX41tA16NwPQrXW0DNzMzMzPxbQBSuR+F61FpA9ihcj8LFW0AfhetRuL5bQD0K16NwXVxAmpmZmZlpXEBI4XoUrndcQClcj8L12FxApHA9CtczXUAAAAAAAFBdQOxRuB6Fi11AuB6F61F4XUBmZmZmZlZdQM3MzMzMbF1ApHA9CteTXECamZmZmVlcQKRwPQrXQ1xAPQrXo3AtXEAK16NwPUpcQHsUrkfhmlxAZmZmZmZ2XEBcj8L1KMxcQEjhehSux1xAKVyPwvUoWkAAAAAAANBaQJqZmZmZ+VpACtejcD3aWkBcj8L1KCRbQNejcD0KN1tAH4XrUbhOW0C4HoXrUWhbQOF6FK5HIVtAPQrXo3AtW0AzMzMzM4NaQClcj8L1EFpAFK5H4Xo0WEAAAAAAAJBYQHE9Ctej0FhAhetRuB71WEAAAAAAAABZQHsUrkfhulhACtejcD1aWEApXI/C9dhXQAAAAAAAQFdAAAAAAAAQWEAAAAAAAABYQEjhehSuJ1hAFK5H4Xp0WEBcj8L1KKxYQOF6FK5HwVhAAAAAAADQWEDhehSuR8FYQClcj8L1qFdAMzMzMzOjV0CuR+F6FC5XQB+F61G4XldAAAAAAABAV0BI4XoUrldXQAAAAAAAgFdAzczMzMzMV0D2KFyPwn1XQI/C9Shcf1dA16NwPQpnWEDsUbgehbtaQLgehetR+FpAKVyPwvU4W0DXo3A9CgdcQArXo3A9OltAzczMzMx8W0CuR+F6FG5bQAAAAAAAgFpAH4XrUbieWkDsUbgehXtaQPYoXI/ClVpACtejcD1aWUCkcD0K11NZQClcj8L1mFlA16NwPQo3WEDNzMzMzExYQJqZmZmZGVhA9ihcj8K1WEBcj8L1KIxXQMP1KFyPcldAexSuR+H6V0DhehSuRyFYQHsUrkfh2ldArkfhehQeWEDD9ShcjwJYQOF6FK5HYVlApHA9CtdDWEAK16NwPZpYQBSuR+F6FFlAMzMzMzMjWUCuR+F6FL5YQDMzMzMzo1hA7FG4HoWrWEAAAAAAAHBaQHE9CtejwFpAhetRuB4lW0D2KFyPwuVaQAAAAAAAQFtAmpmZmZnZWkAK16NwPTpbQOF6FK5HAVxAXI/C9Sj8W0Bcj8L1KMxcQClcj8L1aF1AH4XrUbi+XUAzMzMzMyNdQDMzMzMzQ11AAAAAAACwXUDD9Shcj5JdQD0K16NwzV1A4XoUrkfRXUB7FK5H4bpcQM3MzMzMzFxAcT0K16MQXUBI4XoUrhddQJqZmZmZOV1APQrXo3A9XkDXo3A9CkdeQGZmZmZmdl5AuB6F61HIXkCPwvUoXD9eQJqZmZmZ2VxAhetRuB6FXUAAAAAAAIBcQFK4HoXr8VtAw/UoXI/SW0AfhetRuC5cQFyPwvUojFtAj8L1KFzvW0B7FK5H4YpbQIXrUbgeNVxAZmZmZmZ2XEBcj8L1KBxdQArXo3A96lxAhetRuB4lXUBxPQrXo3BcQI/C9ShcH1xA7FG4HoWLW0DXo3A9CsdbQOxRuB6Fm1tAhetRuB6FXEBmZmZmZgZdQMP1KFyPAl1ApHA9CtdzXUCuR+F6FP5cQHsUrkfhWl1AAAAAAABgXkBmZmZmZqZeQJqZmZmZyV5A9ihcj8LFXkAUrkfhelRfQM3MzMzMjF9AMzMzMzObYEDD9Shcj4JfQGZmZmZm9l5AH4XrUbgeX0ApXI/C9XhfQJqZmZmZuV9AFK5H4XpkX0A9CtejcF1fQHsUrkfh6l9A7FG4HoUbYEAfhetRuN5fQD0K16Nw7V9ArkfhehTuX0BSuB6F6wVgQPYoXI/CJWBAzczMzMwcYEAAAAAAADBgQMP1KFyPMmBAhetRuB5VYEBmZmZmZmZgQI/C9ShcZ2BA7FG4HoV7YEAzMzMzM5NgQK5H4XoUVmBACtejcD0iYECamZmZmYlfQClcj8L12F9ApHA9CtejX0DNzMzMzARgQAAAAAAAMGBAAAAAAADgX0CF61G4HkVgQMP1KFyPzmBASOF6FK5PYEAzMzMzMwNgQDMzMzMzY19AUrgeheuRX0AAAAAAAMBfQKRwPQrXC2BAZmZmZmZ2X0ApXI/C9ehfQBSuR+F6NF9A9ihcj8KFX0AUrkfheiRfQMP1KFyPol9AH4XrUbjOX0AAAAAAAAhgQAAAAAAAGGBAmpmZmZkZX0AAAAAAADBfQArXo3A9ml9APQrXo3D9X0DNzMzMzAxgQMP1KFyPEmBAMzMzMzMjYEAAAAAAAChgQAAAAAAAQGBAUrgehetxYECuR+F6FJ5gQI/C9ShcD2BAUrgehevRX0DhehSuRwFeQOF6FK5HAV5AmpmZmZmZXUAAAAAAAGhdQHsUrkfhGlxAj8L1KFxvXEBSuB6F68FaQAAAAAAAgFtA7FG4HoXbW0BmZmZmZiZcQHsUrkfhKlxAw/UoXI+iWkDD9ShcjxJbQClcj8L12FtAFK5H4Xo0XEApXI/C9WhcQIXrUbgeJVxAH4XrUbhOXEBxPQrXoxBcQM3MzMzMrFtAPQrXo3CdW0BxPQrXoxBcQArXo3A9mlxAZmZmZmaGXECPwvUoXP9cQOF6FK5H8VxApHA9CtezXUDhehSuR9FdQBSuR+F6xF1AcT0K16NgXUA=\",\"dtype\":\"float64\",\"shape\":[403]},\"x\":{\"__ndarray__\":\"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\",\"dtype\":\"float64\",\"shape\":[403]}},\"selected\":{\"id\":\"1073\",\"type\":\"Selection\"},\"selection_policy\":{\"id\":\"1074\",\"type\":\"UnionRenderers\"}},\"id\":\"1047\",\"type\":\"ColumnDataSource\"},{\"attributes\":{\"months\":[0,6]},\"id\":\"1067\",\"type\":\"MonthsTicker\"},{\"attributes\":{\"formatter\":{\"id\":\"1054\",\"type\":\"BasicTickFormatter\"},\"ticker\":{\"id\":\"1020\",\"type\":\"BasicTicker\"}},\"id\":\"1019\",\"type\":\"LinearAxis\"},{\"attributes\":{\"bottom\":{\"field\":\"bottom\"},\"fill_color\":{\"value\":\"#F2583E\"},\"top\":{\"field\":\"top\"},\"width\":{\"value\":43200000},\"x\":{\"field\":\"x\"}},\"id\":\"1048\",\"type\":\"VBar\"},{\"attributes\":{},\"id\":\"1068\",\"type\":\"YearsTicker\"},{\"attributes\":{\"bottom\":{\"field\":\"bottom\"},\"fill_alpha\":{\"value\":0.1},\"fill_color\":{\"value\":\"#1f77b4\"},\"line_alpha\":{\"value\":0.1},\"line_color\":{\"value\":\"#1f77b4\"},\"top\":{\"field\":\"top\"},\"width\":{\"value\":43200000},\"x\":{\"field\":\"x\"}},\"id\":\"1049\",\"type\":\"VBar\"},{\"attributes\":{\"x0\":{\"field\":\"x0\"},\"x1\":{\"field\":\"x1\"},\"y0\":{\"field\":\"y0\"},\"y1\":{\"field\":\"y1\"}},\"id\":\"1038\",\"type\":\"Segment\"},{\"attributes\":{\"ticker\":{\"id\":\"1015\",\"type\":\"DatetimeTicker\"}},\"id\":\"1018\",\"type\":\"Grid\"},{\"attributes\":{},\"id\":\"1069\",\"type\":\"Selection\"},{\"attributes\":{\"data_source\":{\"id\":\"1047\",\"type\":\"ColumnDataSource\"},\"glyph\":{\"id\":\"1048\",\"type\":\"VBar\"},\"hover_glyph\":null,\"muted_glyph\":null,\"nonselection_glyph\":{\"id\":\"1049\",\"type\":\"VBar\"},\"selection_glyph\":null,\"view\":{\"id\":\"1051\",\"type\":\"CDSView\"}},\"id\":\"1050\",\"type\":\"GlyphRenderer\"},{\"attributes\":{\"line_alpha\":{\"value\":0.1},\"line_color\":{\"value\":\"#1f77b4\"},\"x0\":{\"field\":\"x0\"},\"x1\":{\"field\":\"x1\"},\"y0\":{\"field\":\"y0\"},\"y1\":{\"field\":\"y1\"}},\"id\":\"1039\",\"type\":\"Segment\"},{\"attributes\":{},\"id\":\"1070\",\"type\":\"UnionRenderers\"},{\"attributes\":{\"source\":{\"id\":\"1047\",\"type\":\"ColumnDataSource\"}},\"id\":\"1051\",\"type\":\"CDSView\"},{\"attributes\":{\"callback\":null},\"id\":\"1008\",\"type\":\"DataRange1d\"},{\"attributes\":{},\"id\":\"1071\",\"type\":\"Selection\"},{\"attributes\":{\"data_source\":{\"id\":\"1037\",\"type\":\"ColumnDataSource\"},\"glyph\":{\"id\":\"1038\",\"type\":\"Segment\"},\"hover_glyph\":null,\"muted_glyph\":null,\"nonselection_glyph\":{\"id\":\"1039\",\"type\":\"Segment\"},\"selection_glyph\":null,\"view\":{\"id\":\"1041\",\"type\":\"CDSView\"}},\"id\":\"1040\",\"type\":\"GlyphRenderer\"},{\"attributes\":{},\"id\":\"1072\",\"type\":\"UnionRenderers\"},{\"attributes\":{\"num_minor_ticks\":5,\"tickers\":[{\"id\":\"1057\",\"type\":\"AdaptiveTicker\"},{\"id\":\"1058\",\"type\":\"AdaptiveTicker\"},{\"id\":\"1059\",\"type\":\"AdaptiveTicker\"},{\"id\":\"1060\",\"type\":\"DaysTicker\"},{\"id\":\"1061\",\"type\":\"DaysTicker\"},{\"id\":\"1062\",\"type\":\"DaysTicker\"},{\"id\":\"1063\",\"type\":\"DaysTicker\"},{\"id\":\"1064\",\"type\":\"MonthsTicker\"},{\"id\":\"1065\",\"type\":\"MonthsTicker\"},{\"id\":\"1066\",\"type\":\"MonthsTicker\"},{\"id\":\"1067\",\"type\":\"MonthsTicker\"},{\"id\":\"1068\",\"type\":\"YearsTicker\"}]},\"id\":\"1015\",\"type\":\"DatetimeTicker\"},{\"attributes\":{},\"id\":\"1054\",\"type\":\"BasicTickFormatter\"},{\"attributes\":{\"source\":{\"id\":\"1037\",\"type\":\"ColumnDataSource\"}},\"id\":\"1041\",\"type\":\"CDSView\"},{\"attributes\":{},\"id\":\"1073\",\"type\":\"Selection\"},{\"attributes\":{},\"id\":\"1056\",\"type\":\"DatetimeTickFormatter\"},{\"attributes\":{},\"id\":\"1074\",\"type\":\"UnionRenderers\"},{\"attributes\":{\"mantissas\":[1,2,5],\"max_interval\":500.0,\"num_minor_ticks\":0},\"id\":\"1057\",\"type\":\"AdaptiveTicker\"},{\"attributes\":{\"bottom_units\":\"screen\",\"fill_alpha\":{\"value\":0.5},\"fill_color\":{\"value\":\"lightgrey\"},\"left_units\":\"screen\",\"level\":\"overlay\",\"line_alpha\":{\"value\":1.0},\"line_color\":{\"value\":\"black\"},\"line_dash\":[4,4],\"line_width\":{\"value\":2},\"render_mode\":\"css\",\"right_units\":\"screen\",\"top_units\":\"screen\"},\"id\":\"1075\",\"type\":\"BoxAnnotation\"},{\"attributes\":{\"base\":60,\"mantissas\":[1,2,5,10,15,20,30],\"max_interval\":1800000.0,\"min_interval\":1000.0,\"num_minor_ticks\":0},\"id\":\"1058\",\"type\":\"AdaptiveTicker\"},{\"attributes\":{\"dimension\":1,\"ticker\":{\"id\":\"1020\",\"type\":\"BasicTicker\"}},\"id\":\"1023\",\"type\":\"Grid\"},{\"attributes\":{\"base\":24,\"mantissas\":[1,2,4,6,8,12],\"max_interval\":43200000.0,\"min_interval\":3600000.0,\"num_minor_ticks\":0},\"id\":\"1059\",\"type\":\"AdaptiveTicker\"},{\"attributes\":{\"formatter\":{\"id\":\"1056\",\"type\":\"DatetimeTickFormatter\"},\"ticker\":{\"id\":\"1015\",\"type\":\"DatetimeTicker\"}},\"id\":\"1014\",\"type\":\"DatetimeAxis\"},{\"attributes\":{\"callback\":null,\"data\":{\"bottom\":{\"__ndarray__\":\"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\",\"dtype\":\"float64\",\"shape\":[433]},\"top\":{\"__ndarray__\":\"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\",\"dtype\":\"float64\",\"shape\":[433]},\"x\":{\"__ndarray__\":\"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\",\"dtype\":\"float64\",\"shape\":[433]}},\"selected\":{\"id\":\"1071\",\"type\":\"Selection\"},\"selection_policy\":{\"id\":\"1072\",\"type\":\"UnionRenderers\"}},\"id\":\"1042\",\"type\":\"ColumnDataSource\"},{\"attributes\":{},\"id\":\"1010\",\"type\":\"LinearScale\"},{\"attributes\":{\"days\":[1,2,3,4,5,6,7,8,9,10,11,12,13,14,15,16,17,18,19,20,21,22,23,24,25,26,27,28,29,30,31]},\"id\":\"1060\",\"type\":\"DaysTicker\"},{\"attributes\":{\"bottom\":{\"field\":\"bottom\"},\"fill_color\":{\"value\":\"#D5E1DD\"},\"top\":{\"field\":\"top\"},\"width\":{\"value\":43200000},\"x\":{\"field\":\"x\"}},\"id\":\"1043\",\"type\":\"VBar\"},{\"attributes\":{},\"id\":\"1025\",\"type\":\"WheelZoomTool\"},{\"attributes\":{},\"id\":\"1012\",\"type\":\"LinearScale\"},{\"attributes\":{\"bottom\":{\"field\":\"bottom\"},\"fill_alpha\":{\"value\":0.1},\"fill_color\":{\"value\":\"#1f77b4\"},\"line_alpha\":{\"value\":0.1},\"line_color\":{\"value\":\"#1f77b4\"},\"top\":{\"field\":\"top\"},\"width\":{\"value\":43200000},\"x\":{\"field\":\"x\"}},\"id\":\"1044\",\"type\":\"VBar\"},{\"attributes\":{\"days\":[1,4,7,10,13,16,19,22,25,28]},\"id\":\"1061\",\"type\":\"DaysTicker\"},{\"attributes\":{\"callback\":null,\"data\":{\"x0\":{\"__ndarray__\":\"AADAEUwmdkIAAACs+SV2QgAAwHoCJXZCAAAAFbAkdkIAAECvXSR2QgAAgEkLJHZCAADA47gjdkIAAICywSJ2QgAAwExvInZCAAAA5xwidkIAAECByiF2QgAAgBt4IXZCAABA6oAgdkIAAICELiB2QgAAwB7cH3ZCAAAAuYkfdkIAAEBTNx92QgAAACJAHnZCAABAvO0ddkIAAIBWmx12QgAAwPBIHXZCAAAAi/YcdkIAAMBZ/xt2QgAAAPSsG3ZCAABAjlobdkIAAIAoCBt2QgAAgJG+GXZCAADAK2wZdkIAAADGGRl2QgAAQGDHGHZCAACA+nQYdkIAAEDJfRd2QgAAgGMrF3ZCAADA/dgWdkIAAACYhhZ2QgAAQDI0FnZCAAAAAT0VdkIAAECb6hR2QgAAgDWYFHZCAADAz0UUdkIAAABq8xN2QgAAwDj8EnZCAAAA06kSdkIAAEBtVxJ2QgAAgAcFEnZCAADAobIRdkIAAIBwuxB2QgAAwAppEHZCAAAApRYQdkIAAEA/xA92QgAAQKh6DnZCAACAQigOdkIAAMDc1Q12QgAAAHeDDXZCAABAETENdkIAAADgOQx2QgAAQHrnC3ZCAACAFJULdkIAAMCuQgt2QgAAwBf5CXZCAAAAsqYJdkIAAEBMVAl2QgAAgOYBCXZCAACAT7gHdkIAAMDpZQd2QgAAAIQTB3ZCAABAHsEGdkIAAIC4bgZ2QgAAQId3BXZCAACAISUFdkIAAMC70gR2QgAAAFaABHZCAABA8C0EdkIAAAC/NgN2QgAAQFnkAnZCAACA85ECdkIAAMCNPwJ2QgAAACjtAXZCAADA9vUAdkIAAACRowB2QgAAQCtRAHZCAACAxf7/dUIAAMBfrP91QgAAgC61/nVCAAAAYxD+dUIAAED9vf11QgAAgJdr/XVCAABAZnT8dUIAAIAAIvx1QgAAwJrP+3VCAAAANX37dUIAAEDPKvt1QgAAAJ4z+nVCAABAOOH5dUIAAMBsPPl1QgAAAAfq+HVCAADA1fL3dUIAAABwoPd1QgAAQApO93VCAACApPv2dUIAAMA+qfZ1QgAAgA2y9XVCAADAp1/1dUIAAABCDfV1QgAAQNy69HVCAACAdmj0dUIAAEBFcfN1QgAAgN8e83VCAADAeczydUIAAAAUevJ1QgAAQK4n8nVCAAAAfTDxdUIAAEAX3vB1QgAAgLGL8HVCAADASznwdUIAAADm5u91QgAAwLTv7nVCAAAAT53udUIAAEDpSu51QgAAgIP47XVCAADAHabtdUIAAIDsrux1QgAAwIZc7HVCAAAAIQrsdUIAAEC7t+t1QgAAgFVl63VCAABAJG7qdUIAAIC+G+p1QgAAwFjJ6XVCAAAA83bpdUIAAECNJOl1QgAAAFwt6HVCAABA9trndUIAAICQiOd1QgAAwCo253VCAAAAxePmdUIAAMCT7OV1QgAAAC6a5XVCAABAyEfldUIAAIBi9eR1QgAAgMur43VCAADAZVnjdUIAAAAAB+N1QgAAQJq04nVCAACANGLidUIAAEADa+F1QgAAgJ0Y4XVCAADAN8bgdUIAAADSc+B1QgAAQGwh4HVCAAAAOyrfdUIAAEDV1951QgAAgG+F3nVCAADACTPedUIAAACk4N11QgAAwHLp3HVCAAAADZfcdUIAAECnRNx1QgAAgEHy23VCAACAqqjadUIAAMBEVtp1QgAAAN8D2nVCAABAebHZdUIAAIATX9l1QgAAQOJn2HVCAACAfBXYdUIAAMAWw9d1QgAAALFw13VCAABASx7XdUIAAAAaJ9Z1QgAAQLTU1XVCAACAToLVdUIAAMDoL9V1QgAAAIPd1HVCAADAUebTdUIAAADsk9N1QgAAQIZB03VCAACAIO/SdUIAAMC6nNJ1QgAAgIml0XVCAADAI1PRdUIAAAC+ANF1QgAAgPJb0HVCAABAwWTPdUIAAIBbEs91QgAAwPW/znVCAAAAkG3OdUIAAEAqG851QgAAAPkjzXVCAABAk9HMdUIAAIAtf8x1QgAAwMcszHVCAAAAYtrLdUIAAMAw48p1QgAAAMuQynVCAABAZT7KdUIAAID/68l1QgAAwJmZyXVCAACAaKLIdUIAAMACUMh1QgAAAJ39x3VCAABAN6vHdUIAAIDRWMd1QgAAQKBhxnVCAACAOg/GdUIAAMDUvMV1QgAAAG9qxXVCAAAA2CDEdUIAAEByzsN1QgAAgAx8w3VCAADApinDdUIAAABB18J1QgAAwA/gwXVCAAAAqo3BdUIAAEBEO8F1QgAAgN7owHVCAADAeJbAdUIAAIBHn791QgAAwOFMv3VCAAAAfPq+dUIAAEAWqL51QgAAgLBVvnVCAABAf169dUIAAIAZDL11QgAAwLO5vHVCAAAATme8dUIAAEDoFLx1QgAAALcdu3VCAABAUcu6dUIAAIDreLp1QgAAwIUmunVCAAAAINS5dUIAAMDu3Lh1QgAAAImKuHVCAABAIzi4dUIAAIC95bd1QgAAwFeTt3VCAADAwEm2dUIAAABb97V1QgAAQPWktXVCAACAj1K1dUIAAEBeW7R1QgAAgPgItHVCAADAkrazdUIAAAAtZLN1QgAAQMcRs3VCAAAAlhqydUIAAEAwyLF1QgAAgMp1sXVCAADAZCOxdUIAAAD/0LB1QgAAwM3Zr3VCAAAAaIevdUIAAEACNa91QgAAgJzirnVCAADANpCudUIAAIAFma11QgAAwJ9GrXVCAAAAOvSsdUIAAEDUoax1QgAAgG5PrHVCAABAPVirdUIAAIDXBat1QgAAwHGzqnVCAAAADGGqdUIAAECmDqp1QgAAAHUXqXVCAABAD8WodUIAAICpcqh1QgAAwEMgqHVCAAAA3s2ndUIAAMCs1qZ1QgAAAEeEpnVCAABA4TGmdUIAAIB736V1QgAAgOSVpHVCAADAfkOkdUIAAAAZ8aN1QgAAQLOeo3VCAACATUyjdUIAAEAcVaJ1QgAAgLYConVCAADAULChdUIAAADrXaF1QgAAQIULoXVCAAAAVBSgdUIAAEDuwZ91QgAAgIhvn3VCAADAIh2fdUIAAAC9yp51QgAAwIvTnXVCAAAAJoGddUIAAEDALp11QgAAgFrcnHVCAADA9ImcdUIAAIDDkpt1QgAAwF1Am3VCAAAA+O2adUIAAECSm5p1QgAAQPtRmXVCAACAlf+YdUIAAMAvrZh1QgAAAMpamHVCAABAZAiYdUIAAAAzEZd1QgAAQM2+lnVCAACAZ2yWdUIAAMABGpZ1QgAAwGrQlHVCAAAABX6UdUIAAECfK5R1QgAAgDnZk3VCAACAoo+SdUIAAMA8PZJ1QgAAANfqkXVCAABAcZiRdUIAAIALRpF1QgAAQNpOkHVCAACAdPyPdUIAAMAOqo91QgAAAKlXj3VCAABAQwWPdUIAAAASDo51QgAAQKy7jXVCAACARmmNdUIAAMDgFo11QgAAAHvEjHVCAADASc2LdUIAAADkeot1QgAAQH4oi3VCAACAGNaKdUIAAMCyg4p1QgAAgIGMiXVCAAAAtueIdUIAAEBQlYh1QgAAgOpCiHVCAABAuUuHdUIAAIBT+YZ1QgAAwO2mhnVCAAAAiFSGdUIAAEAiAoZ1QgAAAPEKhXVCAABAi7iEdUIAAIAlZoR1QgAAwL8ThHVCAAAAWsGDdUIAAMAoyoJ1QgAAAMN3gnVCAABAXSWCdUIAAID30oF1QgAAwJGAgXVCAACAYImAdUIAAMD6NoB1QgAAAJXkf3VCAABAL5J/dUIAAIDJP391QgAAQJhIfnVCAACAMvZ9dUIAAMDMo311QgAAAGdRfXVCAABAAf98dUIAAADQB3x1QgAAQGq1e3VCAACABGN7dUIAAMCeEHt1QgAAADm+enVCAADAB8d5dUIAAACidHl1QgAAQDwieXVCAACA1s94dUIAAMBwfXh1QgAAgD+Gd3VCAADA2TN3dUIAAAB04XZ1QgAAQA6PdnVCAACAqDx2dUIAAEB3RXV1QgAAgBHzdHVCAADAq6B0dUIAAABGTnR1QgAAQOD7c3VCAAAArwRzdUIAAEBJsnJ1QgAAgONfcnVCAADAfQ1ydUIAAAAYu3F1QgAAwObDcHVCAAAAgXFwdUIAAEAbH3B1QgAAgLXMb3VCAACAHoNudUIAAMC4MG51QgAAAFPebXVCAABA7YttdUIAAICHOW11QgAAQFZCbHVCAACA8O9rdUIAAMCKnWt1QgAAACVLa3VCAABAv/hqdUIAAACOAWp1QgAAQCivaXVCAACAwlxpdUIAAMBcCml1QgAAAPe3aHVCAADAxcBndUIAAABgbmd1QgAAQPobZ3VCAACAlMlmdUIAAMAud2Z1QgAAgP1/ZXVCAADAly1ldUIAAAAy22R1QgAAQMyIZHVCAACAZjZkdUIAAEA1P2N1QgAAgM/sYnVCAADAaZpidUIAAAAESGJ1QgAAQJ71YXVCAAAAbf5gdUIAAEAHrGB1QgAAgKFZYHVCAADAOwdgdUIAAADWtF91QgAAwKS9XnVCAAAAP2tedUIAAEDZGF51QgAAgHPGXXVCAADADXRddUIAAIDcfFx1QgAAwHYqXHVCAAAAEdhbdUIAAECrhVt1QgAAQBQ8WnVCAACArulZdUIAAMBIl1l1QgAAAONEWXVCAABAffJYdUIAAABM+1d1QgAAQOaoV3VCAACAgFZXdUIAAMAaBFd1QgAAALWxVnVCAADAg7pVdUIAAAAeaFV1QgAAQLgVVXVCAACAUsNUdUIAAMDscFR1QgAAgLt5U3VCAADAVSdTdUIAAADw1FJ1QgAAQIqCUnVCAACAJDBSdUIAAEDzOFF1QgAAgI3mUHVCAADAJ5RQdUIAAADCQVB1QgAAACv4TnVCAABAxaVOdUIAAIBfU051QgAAwPkATnVCAAAAlK5NdUIAAMBit0x1QgAAAP1kTHVCAABAlxJMdUIAAIAxwEt1QgAAwMttS3VCAACAmnZKdUIAAMA0JEp1QgAAAM/RSXVCAABAaX9JdUIAAIADLUl1QgAAQNI1SHVCAACAbONHdUIAAMAGkUd1QgAAAKE+R3VCAABAO+xGdUIAAAAK9UV1QgAAQKSiRXVCAACAPlBFdUIAAMDY/UR1QgAAAHOrRHVCAADAQbRDdUIAAADcYUN1QgAAQHYPQ3VCAACAEL1CdUIAAMCqakJ1QgAAgHlzQXVCAADAEyFBdUIAAACuzkB1QgAAQEh8QHVCAACA4ilAdUIAAECxMj91QgAAgEvgPnVCAADA5Y0+dUIAAACAOz51QgAAQBrpPXVCAAAA6fE8dUIAAECDnzx1QgAAgB1NPHVCAADAt/o7dUIAAABSqDt1QgAAALteOnVCAABAVQw6dUIAAIDvuTl1QgAAwIlnOXVCAACAWHA4dUIAAMDyHTh1QgAAAI3LN3VCAABAJ3k3dUIAAIDBJjd1QgAAQJAvNnVCAACAKt01dUIAAMDEijV1QgAAAF84NXVCAABA+eU0dUIAAADI7jN1QgAAQGKcM3VCAACA/EkzdUIAAMCW9zJ1QgAAADGlMnVCAADA/60xdUIAAACaWzF1QgAAQDQJMXVCAACAzrYwdUIAAMBoZDB1QgAAgDdtL3VCAADA0RovdUIAAABsyC51QgAAQAZ2LnVCAABAbywtdUIAAIAJ2ix1QgAAwKOHLHVCAAAAPjUsdUIAAEDY4it1QgAAAKfrKnVCAABAQZkqdUIAAIDbRip1QgAAwHX0KXVCAAAAEKIpdUIAAMDeqih1QgAAAHlYKHVCAABAEwYodUIAAICtsyd1QgAAwEdhJ3VCAACAFmomdUIAAMCwFyZ1QgAAAEvFJXVCAABA5XIldUIAAEBOKSR1QgAAgOjWI3VCAADAgoQjdUIAAAAdMiN1QgAAQLffInVCAAAAhughdUIAAEAgliF1QgAAgLpDIXVCAADAVPEgdUIAAADvniB1QgAAAFhVH3VCAABA8gIfdUIAAICMsB51QgAAwCZeHnVCAADAjxQddUIAAAAqwhx1QgAAQMRvHHVCAACAXh0cdUIAAEAtJht1QgAAgMfTGnVCAADAYYEadUIAAAD8Lhp1QgAAQJbcGXVCAAAAZeUYdUIAAED/khh1QgAAgJlAGHVCAADAM+4XdUIAAADOmxd1QgAAwJykFnVCAAAAN1IWdUIAAEDR/xV1QgAAgGutFXVCAADABVsVdUIAAIDUYxR1QgAAAAm/E3VCAABAo2wTdUIAAIA9GhN1QgAAQAwjEnVCAACAptARdUIAAMBAfhF1QgAAANsrEXVCAABAddkQdUIAAABE4g91QgAAQN6PD3VCAACAeD0PdUIAAMAS6w51QgAAAK2YDnVCAADAe6ENdUIAAAAWTw11QgAAQLD8DHVCAACASqoMdUIAAMDkVwx1QgAAgLNgC3VCAADATQ4LdUIAAADouwp1QgAAQIJpCnVCAACAHBcKdUIAAEDrHwl1QgAAgIXNCHVCAADAH3sIdUIAAAC6KAh1QgAAQFTWB3VCAAAAI98GdUIAAEC9jAZ1QgAAgFc6BnVCAADA8ecFdUIAAACMlQV1QgAAwFqeBHVCAAAA9UsEdUIAAECP+QN1QgAAgCmnA3VCAADAw1QDdUIAAICSXQJ1QgAAwCwLAnVCAAAAx7gBdUIAAEBhZgF1QgAAgPsTAXVCAABAyhwAdUIAAIBkyv90QgAAwP53/3RCAAAAmSX/dEIAAEAz0/50QgAAAALc/XRCAABAnIn9dEIAAIA2N/10QgAAwNDk/HRCAAAAa5L8dEIAAMA5m/t0QgAAANRI+3RCAABAbvb6dEIAAIAIpPp0QgAAgHFa+XRCAADACwj5dEIAAACmtfh0QgAAQEBj+HRCAACA2hD4dEIAAECpGfd0QgAAgEPH9nRCAADA3XT2dEIAAAB4IvZ0QgAAQBLQ9XRCAAAA4dj0dEIAAEB7hvR0QgAAgBU09HRCAADAr+HzdEIAAABKj/N0QgAAwBiY8nRCAAAAs0XydEIAAEBN8/F0QgAAgOeg8XRCAADAgU7xdEIAAIBQV/B0QgAAwOoE8HRCAAAAhbLvdEIAAEAfYO90QgAAgLkN73RCAABAiBbudEIAAIAixO10QgAAwLxx7XRCAAAAVx/tdEIAAEDxzOx0QgAAAMDV63RCAABAWoPrdEIAAID0MOt0QgAAwI7e6nRCAAAAKYzqdEIAAMD3lOl0QgAAAJJC6XRCAABALPDodEIAAIDGneh0QgAAwGBL6HRCAACAL1TndEIAAMDJAed0QgAAAGSv5nRCAABA/lzmdEIAAICYCuZ0QgAAgAHB5HRCAADAm27kdEIAAAA2HOR0QgAAQNDJ43RCAAAAn9LidEIAAEA5gOJ0QgAAgNMt4nRCAADAbdvhdEIAAAAIieF0QgAAwNaR4HRCAAAAcT/gdEIAAEAL7d90QgAAgKWa33RCAADAP0jfdEIAAIAOUd50QgAAwKj+3XRCAAAAQ6zddEIAAEDdWd10QgAAgHcH3XRCAABARhDcdEIAAIDgvdt0QgAAwHpr23RCAAAAFRnbdEIAAECvxtp0QgAAAH7P2XRCAABAGH3ZdEIAAICyKtl0QgAAwEzY2HRCAADAtY7XdEIAAABQPNd0QgAAQOrp1nRCAACAhJfWdEIAAMAeRdZ0QgAAgO1N1XRCAADAh/vUdEIAAAAiqdR0QgAAQLxW1HRCAACAVgTUdEIAAEAlDdN0QgAAgL+60nRCAADAWWjSdEIAAAD0FdJ0QgAAQI7D0XRCAAAAXczQdEIAAED3edB0QgAAgJEn0HRCAADAK9XPdEIAAADGgs90QgAAwJSLznRCAAAALznOdEIAAEDJ5s10QgAAgGOUzXRCAADA/UHNdEIAAIDMSsx0QgAAwGb4y3RCAAAAAabLdEIAAECbU8t0QgAAgDUBy3RCAABABArKdEIAAICet8l0QgAAwDhlyXRCAAAA0xLJdEIAAEBtwMh0QgAAQNZ2x3RCAACAcCTHdEIAAMAK0sZ0QgAAAKV/xnRCAADAc4jFdEIAAAAONsV0QgAAQKjjxHRCAACAQpHEdEIAAMDcPsR0QgAAgKtHw3RCAADARfXCdEIAAADgosJ0QgAAQHpQwnRCAACAFP7BdEIAAEDjBsF0QgAAgH20wHRCAADAF2LAdEIAAACyD8B0QgAAQEy9v3RCAAAAG8a+dEIAAEC1c750QgAAgE8hvnRCAADA6c69dEIAAACEfL10QgAAwFKFvHRCAAAA7TK8dEIAAECH4Lt0QgAAgCGOu3RCAADAuzu7dEIAAICKRLp0QgAAwCTyuXRCAAAAv5+5dEIAAEBZTbl0QgAAQMIDuHRCAACAXLG3dEIAAMD2Xrd0QgAAAJEMt3RCAABAK7q2dEIAAAD6wrV0QgAAQJRwtXRCAACALh61dEIAAMDIy7R0QgAAAGN5tHRCAADAMYKzdEIAAADML7N0QgAAQGbdsnRCAACAAIuydEIAAMCaOLJ0QgAAgGlBsXRCAADAA++wdEIAAACenLB0QgAAQDhKsHRCAABAoQCvdEIAAIA7rq50QgAAwNVbrnRCAAAAcAmudEIAAEAKt610QgAAANm/rHRCAABAc22sdEIAAIANG6x0QgAAwKfIq3RCAAAAQnardEIAAMAQf6p0QgAAQEXaqXRCAACA34epdEIAAMB5Nal0QgAAgEg+qHRCAAAAfZmndEIAAEAXR6d0QgAAgLH0pnRCAABAgP2ldEIAAIAaq6V0QgAAwLRYpXRCAAAATwaldEIAAEDps6R0QgAAALi8o3RCAABAUmqjdEIAAIDsF6N0QgAAwIbFonRCAAAAIXOidEIAAMDve6F0QgAAAIopoXRCAABAJNegdEIAAIC+hKB0QgAAwFgyoHRCAACAJzufdEIAAABclp50QgAAQPZDnnRCAACAkPGddEIAAEBf+px0Qg==\",\"dtype\":\"float64\",\"shape\":[839]},\"x1\":{\"__ndarray__\":\"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\",\"dtype\":\"float64\",\"shape\":[839]},\"y0\":{\"__ndarray__\":\"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\",\"dtype\":\"float64\",\"shape\":[839]},\"y1\":{\"__ndarray__\":\"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\",\"dtype\":\"float64\",\"shape\":[839]}},\"selected\":{\"id\":\"1069\",\"type\":\"Selection\"},\"selection_policy\":{\"id\":\"1070\",\"type\":\"UnionRenderers\"}},\"id\":\"1037\",\"type\":\"ColumnDataSource\"},{\"attributes\":{},\"id\":\"1024\",\"type\":\"PanTool\"},{\"attributes\":{},\"id\":\"1020\",\"type\":\"BasicTicker\"}],\"root_ids\":[\"1003\"]},\"title\":\"Bokeh Application\",\"version\":\"1.3.4\"}};\n",
       "  var render_items = [{\"docid\":\"cec22a03-c809-4669-a80e-d47503b6b3a3\",\"roots\":{\"1003\":\"b9ce39a2-23da-46cc-9d9f-d5ee5c94fea7\"}}];\n",
       "  root.Bokeh.embed.embed_items_notebook(docs_json, render_items);\n",
       "\n",
       "  }\n",
       "  if (root.Bokeh !== undefined) {\n",
       "    embed_document(root);\n",
       "  } else {\n",
       "    var attempts = 0;\n",
       "    var timer = setInterval(function(root) {\n",
       "      if (root.Bokeh !== undefined) {\n",
       "        embed_document(root);\n",
       "        clearInterval(timer);\n",
       "      }\n",
       "      attempts++;\n",
       "      if (attempts > 100) {\n",
       "        console.log(\"Bokeh: ERROR: Unable to run BokehJS code because BokehJS library is missing\");\n",
       "        clearInterval(timer);\n",
       "      }\n",
       "    }, 10, root)\n",
       "  }\n",
       "})(window);"
      ],
      "application/vnd.bokehjs_exec.v0+json": ""
     },
     "metadata": {
      "application/vnd.bokehjs_exec.v0+json": {
       "id": "1003"
      }
     },
     "output_type": "display_data"
    }
   ],
   "source": [
    "from math import pi\n",
    "\n",
    "df.reset_index(inplace=True)\n",
    "\n",
    "inc = df.Close > df.Open\n",
    "dec = df.Open > df.Close\n",
    "w = 12*60*60*1000 # half day in ms\n",
    "\n",
    "p = figure(x_axis_type=\"datetime\", \n",
    "           plot_width=750, plot_height=400, \n",
    "           title = \"AAPL Candlestick\")\n",
    "\n",
    "p.segment(df.Date, df.High, df.Date, df.Low, color=\"black\")\n",
    "p.vbar(df.Date[inc], w, df.Open[inc], df.Close[inc], fill_color=\"#D5E1DD\", line_color=\"black\")\n",
    "p.vbar(df.Date[dec], w, df.Open[dec], df.Close[dec], fill_color=\"#F2583E\", line_color=\"black\")\n",
    "\n",
    "show(p)"
   ]
  },
  {
   "cell_type": "code",
   "execution_count": 9,
   "metadata": {
    "slideshow": {
     "slide_type": "slide"
    }
   },
   "outputs": [
    {
     "data": {
      "text/html": [
       "\n",
       "\n",
       "\n",
       "\n",
       "\n",
       "\n",
       "  <div class=\"bk-root\" id=\"ea2001d8-85b6-4aa0-8db6-ceb8d92ec563\" data-root-id=\"1220\"></div>\n"
      ]
     },
     "metadata": {},
     "output_type": "display_data"
    },
    {
     "data": {
      "application/javascript": [
       "(function(root) {\n",
       "  function embed_document(root) {\n",
       "    \n",
       "  var docs_json = {\"ad970c76-d15a-4945-b536-b64746e9d97a\":{\"roots\":{\"references\":[{\"attributes\":{\"below\":[{\"id\":\"1231\",\"type\":\"DatetimeAxis\"}],\"center\":[{\"id\":\"1235\",\"type\":\"Grid\"},{\"id\":\"1240\",\"type\":\"Grid\"}],\"left\":[{\"id\":\"1236\",\"type\":\"LinearAxis\"}],\"plot_height\":400,\"plot_width\":750,\"renderers\":[{\"id\":\"1255\",\"type\":\"GlyphRenderer\"},{\"id\":\"1260\",\"type\":\"GlyphRenderer\"},{\"id\":\"1265\",\"type\":\"GlyphRenderer\"}],\"title\":{\"id\":\"1221\",\"type\":\"Title\"},\"toolbar\":{\"id\":\"1246\",\"type\":\"Toolbar\"},\"x_range\":{\"id\":\"1223\",\"type\":\"DataRange1d\"},\"x_scale\":{\"id\":\"1227\",\"type\":\"LinearScale\"},\"y_range\":{\"id\":\"1225\",\"type\":\"DataRange1d\"},\"y_scale\":{\"id\":\"1229\",\"type\":\"LinearScale\"}},\"id\":\"1220\",\"subtype\":\"Figure\",\"type\":\"Plot\"},{\"attributes\":{\"overlay\":{\"id\":\"1314\",\"type\":\"BoxAnnotation\"}},\"id\":\"1243\",\"type\":\"BoxZoomTool\"},{\"attributes\":{\"months\":[0,6]},\"id\":\"1306\",\"type\":\"MonthsTicker\"},{\"attributes\":{\"callback\":null,\"data\":{\"bottom\":{\"__ndarray__\":\"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\",\"dtype\":\"float64\",\"shape\":[403]},\"top\":{\"__ndarray__\":\"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\",\"dtype\":\"float64\",\"shape\":[403]},\"x\":{\"__ndarray__\":\"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\",\"dtype\":\"float64\",\"shape\":[403]}},\"selected\":{\"id\":\"1312\",\"type\":\"Selection\"},\"selection_policy\":{\"id\":\"1313\",\"type\":\"UnionRenderers\"}},\"id\":\"1262\",\"type\":\"ColumnDataSource\"},{\"attributes\":{},\"id\":\"1244\",\"type\":\"ResetTool\"},{\"attributes\":{\"bottom\":{\"field\":\"bottom\"},\"fill_color\":{\"value\":\"#F2583E\"},\"top\":{\"field\":\"top\"},\"width\":{\"value\":43200000},\"x\":{\"field\":\"x\"}},\"id\":\"1263\",\"type\":\"VBar\"},{\"attributes\":{},\"id\":\"1307\",\"type\":\"YearsTicker\"},{\"attributes\":{\"bottom\":{\"field\":\"bottom\"},\"fill_alpha\":{\"value\":0.1},\"fill_color\":{\"value\":\"#1f77b4\"},\"line_alpha\":{\"value\":0.1},\"line_color\":{\"value\":\"#1f77b4\"},\"top\":{\"field\":\"top\"},\"width\":{\"value\":43200000},\"x\":{\"field\":\"x\"}},\"id\":\"1264\",\"type\":\"VBar\"},{\"attributes\":{},\"id\":\"1245\",\"type\":\"SaveTool\"},{\"attributes\":{},\"id\":\"1227\",\"type\":\"LinearScale\"},{\"attributes\":{},\"id\":\"1308\",\"type\":\"Selection\"},{\"attributes\":{\"active_drag\":\"auto\",\"active_inspect\":\"auto\",\"active_multi\":null,\"active_scroll\":\"auto\",\"active_tap\":\"auto\",\"tools\":[{\"id\":\"1241\",\"type\":\"PanTool\"},{\"id\":\"1242\",\"type\":\"WheelZoomTool\"},{\"id\":\"1243\",\"type\":\"BoxZoomTool\"},{\"id\":\"1244\",\"type\":\"ResetTool\"},{\"id\":\"1245\",\"type\":\"SaveTool\"}]},\"id\":\"1246\",\"type\":\"Toolbar\"},{\"attributes\":{\"callback\":null},\"id\":\"1225\",\"type\":\"DataRange1d\"},{\"attributes\":{\"data_source\":{\"id\":\"1262\",\"type\":\"ColumnDataSource\"},\"glyph\":{\"id\":\"1263\",\"type\":\"VBar\"},\"hover_glyph\":null,\"muted_glyph\":null,\"nonselection_glyph\":{\"id\":\"1264\",\"type\":\"VBar\"},\"selection_glyph\":null,\"view\":{\"id\":\"1266\",\"type\":\"CDSView\"}},\"id\":\"1265\",\"type\":\"GlyphRenderer\"},{\"attributes\":{},\"id\":\"1309\",\"type\":\"UnionRenderers\"},{\"attributes\":{\"callback\":null},\"id\":\"1223\",\"type\":\"DataRange1d\"},{\"attributes\":{\"source\":{\"id\":\"1262\",\"type\":\"ColumnDataSource\"}},\"id\":\"1266\",\"type\":\"CDSView\"},{\"attributes\":{\"line_alpha\":{\"value\":0.1},\"line_color\":{\"value\":\"#1f77b4\"},\"x0\":{\"field\":\"x0\"},\"x1\":{\"field\":\"x1\"},\"y0\":{\"field\":\"y0\"},\"y1\":{\"field\":\"y1\"}},\"id\":\"1254\",\"type\":\"Segment\"},{\"attributes\":{},\"id\":\"1242\",\"type\":\"WheelZoomTool\"},{\"attributes\":{},\"id\":\"1310\",\"type\":\"Selection\"},{\"attributes\":{\"data_source\":{\"id\":\"1252\",\"type\":\"ColumnDataSource\"},\"glyph\":{\"id\":\"1253\",\"type\":\"Segment\"},\"hover_glyph\":null,\"muted_glyph\":null,\"nonselection_glyph\":{\"id\":\"1254\",\"type\":\"Segment\"},\"selection_glyph\":null,\"view\":{\"id\":\"1256\",\"type\":\"CDSView\"}},\"id\":\"1255\",\"type\":\"GlyphRenderer\"},{\"attributes\":{\"text\":\"AAPL Candlestick\"},\"id\":\"1221\",\"type\":\"Title\"},{\"attributes\":{},\"id\":\"1311\",\"type\":\"UnionRenderers\"},{\"attributes\":{},\"id\":\"1229\",\"type\":\"LinearScale\"},{\"attributes\":{},\"id\":\"1293\",\"type\":\"BasicTickFormatter\"},{\"attributes\":{\"source\":{\"id\":\"1252\",\"type\":\"ColumnDataSource\"}},\"id\":\"1256\",\"type\":\"CDSView\"},{\"attributes\":{\"callback\":null,\"data\":{\"x0\":{\"__ndarray__\":\"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\",\"dtype\":\"float64\",\"shape\":[839]},\"x1\":{\"__ndarray__\":\"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\",\"dtype\":\"float64\",\"shape\":[839]},\"y0\":{\"__ndarray__\":\"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\",\"dtype\":\"float64\",\"shape\":[839]},\"y1\":{\"__ndarray__\":\"PQrXo3DdZECuR+F6FM5kQK5H4XoUnmRAMzMzMzMTZUC4HoXrUWhlQK5H4XoU3mVAhetRuB61ZUCkcD0K1zNmQGPuWkI+QmZAUrgehes5ZkBI4XoUrmdmQB+F61G4hmZAFK5H4XosZkAK16NwPeJlQHE9CtejyGVAXI/C9SgEZkBxPQrXo9BlQGZmZmZmjmVAhetRuB6VZUCamZmZmUFmQIXrUbgeRWZAH4XrUbgGZkDhehSuR7FlQB+F61G4dmVAuB6F61FgZUA9CtejcG1lQHE9CtejeGVAAAAAAAAgZUBcj8L1KFxkQM3MzMzMNGRAuB6F61GwY0BI4XoUrsdiQClcj8L1YGNA1XjpJjHiY0AAAAAAAEBjQAAAAAAAgGNAMzMzMzMDZEC4HoXrUdhkQAAAAAAA0GRAZmZmZmaWZEAK16NwPeJkQFK4HoXrQWVAKVyPwvVQZUBmZmZmZqZlQArXo3A9GmZAwaikTkATZkCF61G4Hi1mQAAAAAAASGZACtejcD3iZUAUrkfhegRmQM3MzMzM9GVASOF6FK7PZUAAAAAAAKBlQIXrUbgerWVA9ihcj8K9ZUCamZmZmaFlQMP1KFyPgmVAH4XrUbh+ZUC4HoXrUShlQNejcD0KJ2VAj8L1KFxPZUAfhetRuDZlQH0/NV66NWVAAAAAAADQZUAzMzMzM8NlQAAAAAAAqGVAexSuR+HCZUDsUbgehdtlQB+F61G4jmVAzczMzMx0ZUAAAAAAAIBlQJduEoPAbmVA4XoUrkcZZUAK16NwPRplQIXrUbgeHWVAH4XrUbjOZEDNzMzMzAxlQFyPwvUoNGVAAAAAAAAQZUCuR+F6FA5lQIXrUbge5WRA7FG4HoV7ZUB7FK5H4aplQJEPejar1GVAmpmZmZmhZUApXI/C9VhlQFK4HoXrMWVAFK5H4Xo0ZUCamZmZmUllQFyPwvUoDGVA9ihcj8JlZUDNzMzMzKxlQHE9CtejyGVAFK5H4XqkZUAzMzMzM7NlQNejcD0Kd2VApHA9CtdjZUApXI/C9ahkQOxRuB6Fs2RArkfhehTeZEDXo3A9CndkQGZmZmZm1mNAKVyPwvWYY0BxPQrXo2hjQGZmZmZmhmNAAAAAAABwY0AfhetRuH5jQHE9CtejYGNAMzMzMzPzY0CPwvUoXOdjQM3MzMzMtGNAhetRuB6NY0A2qz5XW3djQAAAAAAAeGNAMzMzMzNjY0DsUbgehW9jQFK4HoXrUWNAmpmZmZlBY0AfhetRuA5jQIXrUbgePWNA16NwPQoXY0AAAAAAAABjQGZmZmZmFmNA4XoUrkcxY0CuR+F6FPZiQIXrUbgepWJAUrgehevRYkAAAAAAABhjQMP1KFyPOmNArkfhehTOY0CkcD0K179jQAAAAAAAwGNAexSuR+HCY0CF61G4Hr1jQHE9Ctej2GNAFK5H4Xr8Y0ApXI/C9dBjQOxRuB6FC2RAcT0K16MQZEBSuB6F6xFkQFyPwvUodGRAj8L1KFxvZEDsUbgehVNkQAAAAAAAAGRA9ihcj8L9Y0BxPQrXo+hjQJqZmZmZ0WNAXI/C9SjcY0BxPQrXo8BjQERpb/CFY2NA16NwPQqXY0B7FK5H4bpjQM3MzMzMBGRAFK5H4XoEZEAAAAAAANhjQArXo3A9gmNAXI/C9ShUY0A+ISzl8c5jQNOTPWwstGNAFprOePJhY0BzIwQDmExjQIFQIyftcGNAxn4Qtu15YkBtpWs4AXFiQFe5W6bJkmJAJftCVo1WYkCjMIKTIA5jQIFcHF745WJAi7w9d2qpYkAxNWVk6IhiQAh5qIuosmJAQCwbaQKrYkDWkSkGN4JiQGuybiIHf2JA8qWUGoJXYkDA53vKRRtiQDPijkaDB2JANNWLXH35YUAAMXngTNlhQJR6JDJSymFA3/1DVrS6YUBhpFXIs8RhQMo6mvmx0GFAkZQqBl7mYUAHdTeuj7ZhQOixG1Oc0mFA62DMmUThYUDmlNhBXBliQLGe+VrBEGJA8V7hIBIRYkDYPlPo0QBiQOaH1VdWC2JA3O7j9IriYUCFWgj4ArRhQKk9zo5UtGFAaufNjkfoYUBCKxG2BxJiQKve/jnkvWFAG2JR88EtYkCIHBd/1ThjQAo3RjViO2NA+hYq+xIlY0Cwr20i4BpjQNkZXpC1CGNAN6OTGlvzYkDc1vGGdPhiQNgmYXq7FmNAj2DVTBgWY0DWhTDPKw1jQFqTXJuyAWNAj2DVTBgWY0Ai4Om9WAljQMkGRUBsAGNA4OVR6J3QYkB5341GXKNiQNKD01cIQ2NA4cxVx4xNY0AcFPZlcEFjQH6fiGc59mJAQilSpxfcYkA+Nh0EoAZjQIV/06tUemJA5MLLdUcyYkCZckMZIBRiQLsdhJs+42FAf0X6gtE0YkCQRTVNJflhQNC7vvaAw2FAHf1V/cXEYUBnZT7o38ZhQLaQm1mM1mFA4Wjqp6XAYUA4LMWMbpZhQGUEFNuHgGFA6TsXpv5pYUDE8taS8X5hQPRqS2tTd2FA0BD0CAp9YUCDz1wCxXthQDd/1KWdXWFAxZ/HecK3YUDQu772gMNhQKxhZ5Q3yWFAwq64z6TUYUCPmERmVMBhQKbUflKFvGFAWZPnS0C7YUBMc6TczcphQDU5kOn2wGFAcREaAmRvYUCaTY+46C9hQKcYnRXSZmFAHkF0wBJvYUAUFGb0F1RhQBqjdC8kU2FAwFTXAQNjYUCvqdFJOFhhQLrFyMb2Y2FAKcRKm8M8YUDDNM9c5DZhQB2Ug9lBNmFAQe7aO4swYUAiid51E/5gQB2Ug9lBNmFAIiOSFE41YUAUu5bkJC9hQKDcnfP0LmFAKbKgT1o0YUDeYqvvXw9hQF4MM3z38mBAs97+tqLlYEDIfDkS5cVgQFl/SjpF5mBAygf8Wj3gYECQc5AFHdxgQIzVkHQuwGBAnj2xKey3YEDsxXkl8rBgQJZGvQN2hWBAUZZaMZd1YEApngM+X19gQIXuxmTaQWBAcI0O/CwzYEB9OT4O1xpgQDazP5S0019AN1uRK+6kX0A/vz4m6YxfQBganko9XF9AK9EBp1TIXUAKke/q28pdQJ6lQqdGBl5AnqVCp0YGXkAS9Zzl1rJdQDTdADmJgV1AiqmFQ5qSXUCO0BVvXZBdQGUwPJxReV1AgAyhXc+OXUCH7Ei7oDBdQAm1O+XrVV1AkHxN6v4vXUB/iJvApUhdQEJsJEOvNV1AObDI3+0eXUAvcGffAsJcQOqXlP5KmFxAH/ivGICUXEC3s3NH7FVcQPT7QflFgFxAbWCHKJa9XEDZo+LU8bBcQB5QXoFGw1xAqfj4CGOKXEB9KOIdjI1cQGT82S2b1VxAupwHBEnPXEAf+K8YgJRcQNjhXwbdjVxAoTydpaFzXEA3UA891GNcQF+PQNQUFlxA4Xt/+G/GW0A8n9FGD7tbQMPi3a74TltAn/JuIfPzWkCFQmGU2PVaQDMrDthtulpAbGb80lrgWkAPQ6qEu+taQJ92dL4cOltATLfPangtW0DZZ3Us6IBbQNMuPkEYZVtArBNZpOc9W0DP13D9iYFbQIAX64StKVtAcMuK8o0TW0B9hgUxF99aQIUO/yUiUlpAhSYI50Y2WkBI6nxu2LJZQLDeFRH5TlpAn2ZeSnYhWkCebmmEya1aQEyLeDYVFltA3A7mnukGW0BrDk5qlLFaQI7+vPeZDFtA+trNPH5SW0DSppSTeSZbQP4FInhfzltA1HS2/RfeW0Bfk2u/9wZcQAydREJK1VtABHqLm9LQXEC8iVgzVL1cQK+A6pMNkFxADJluezKTXEDpDlNSGvRbQA5P/Vag2VxAXV4Tn36vXECx9a/zgMVcQA8nI6bWbFxApR3ErZutXEBYKhe7BYtcQHFu0Y/0LVxARfZU4N3hW0B5G2ma+MlbQPrB3nFNrltAiUBAj4eqW0B2pqM6hZRbQG2gryVWdltAbaCvJVZ2W0Dun4EH1txbQOcnQh1LmFtAVTQboJ1mW0BVNBugnWZbQGNlY/CtAFxA85FmBaWeW0CoPQPK+6JbQFwepl+E0VtA7RHN3DEDXEBfISDqm+BbQJolqkQcrVpA1Wmh3pZXWkCi7wbhaC9ZQI34N7sjVVlAWPv9sdLZWUBUUeAx5kxaQJKtalqRaFpAPOVLrC09WkAl1un3t/FZQAyrHu758llAQtOsMizqWUCVydOv2RtaQHqeCKYbHVpAdQ3a8F80WkBSwysHQnNaQFY48Wa1qFpA09vss/J9WkCVIjC6BJ5aQDKq/3aFx1pAr037w8KcWkCYl/UZeNNaQAVzTENpjFpAT/Ez1ot5WkDT2+yz8n1aQKoZ/99JeFpAgIiTZQKIWkB9E84Fj1JaQIUyseXuFFpA46dnnlbcWUCUtZ+m/JhZQIun3oDTaFlA+xvHX3iCWUDRWKyzz1RZQFEiNXwFH1lACiJSp6QaWUAQ8UZ0uY5XQCSN5WT/rVdAZRU46O8EWEB5AAmmOThYQJwe/NUQXlhAmgSyJFxFWEBYrS1aExdYQKT0DSrSEFhAPXBkJQTHV0BT+Zhx/qhXQI3+JMWBuldA560PIx2iV0CTxQQPlXdXQOAqSfOvXFdAYKW8GYEOV0Cjy3IrIhRXQDSTU4GMSldA/6PZRCAKV0DXTThPOOBWQOIMxpsGg1ZAD25hAf9aVkAgO86q7KJWQGL/Bo6LRVdAF7gmvsxLV0CFJ1u8pCFXQNBo9PDIN1dAmdsWJqxIV0B26tdL1XhXQEvYbrPgtFdAENPiX12jV0Cr2VGIQblXQHrPOu2RD1hAl6pnsFEOWEAqQXpNFBxYQGRGBqGXLVhAQJng4GbVV0BF4MCwJc9XQDL17/Lbm1dASDoLJTAGWEDpQ0D31SRYQPoUxwNrP1hAHvfT05MZWED9o/iHbfhXQFP5mHH+qFdAXgdZi9BfV0BLOuzh4hdXQOjevph33FZAdi7xZXvwVkAt1KbxcLlWQEADkclgZFZAqJqFLy39VUBAR6rjBtxVQClc+GgKl1ZASFWJQCaBVkAxzFT0K59WQPB00CnjcFZAdfIKBs2kVkBgnHzScshWQCbplce+v1ZAp1zGGixwVkDfMqC1AndWQINVihgu41ZAJTSa9RM8V0BIrLgItTtZQO31uckBYVlAxsqTZNhnWUA8uRWGy59ZQPVJ/WZdwVlAedrw4e7LWUD1+Ms9EvhZQHhcePKDpVpAb8x7SvsIW0Av3u2OCOhaQH/dAlb/YlpAAW720JBtWkBya9sviURaQH3fPV99QVpAOm7qNpGEWkCpGp5sPpJaQDPtX9MVx1pA50fon2ZGWkDuibaLrHBaQJYk6XVEX1pAZvOtLwJ4WUCkI/vPMoNZQCKTB1WheFlAMVljEWu3WUBtdzsAhoxZQMb3MZItiFlA9DeItUeLWUDI63pa+3xZQFDuhvT6ZVlAoPCeKPo3WUC0TCf1SrdYQPrlWd/ipVhAAgAXLfZRWEAjdUrta1lYQHOJ19KAYVhAn1Zy/lCEWECp0cz5zZ1YQNSkl42cZFhANk48vEEyWEDIVoRYP6hXQFt8jxxheFdA4iIcFwd0V0ABe4yvWCFXQH2J+4ZdqVZAVfoKedT1VkBmHgF2/0pXQEapzbWJQ1dAKD8X26BVV0C/aQ7RS1lXQOa0JFmP+VZAwkUhARiWVkCJK23g+3tWQBoDSuja2VZAUXJWbUnPVkAKIy5x9ZdWQA+I7+xdwFZAcsByz50dV0DcqyURTLlWQEa7ZvGpxVZAJXc52eoKV0Ah5+P//clWQAIeM2rMUFZAuyZoU4qLVkCzaQRLA7BXQGENRMmA9ldAZgBmG5DCV0DqoHBVee5WQH7GG618kFZA/f5ZyRkRV0BEp1+scQhXQALedNbwH1dAUIijq2aAV0Ad3ilVnt9XQDFYfdjfgldAUBInzgJfV0ChHyIcm0pXQAXzTS1QH1hAvwFVzV68WEBOb5zBBKNYQBosmJtjUVlAVBTL8VDjWUDrlvyKh89ZQN2/JaWGpVlA0PYrke0SWkCu/DeIjeRZQIBBllM9tllAPSaMpMN/WUD7BKexmo5ZQKedFNSdUlpA+HdAinxHWkAArTgUVKdaQBhOT6CzhFpA5iu4W/lBW0A4avqtY+ZbQD7w1AvNy1tANpGxV905XEBimeZAm3RcQGZLeO2nzVtASfyJx5+WW0DrOxptoglcQDaRsVfdOVxAEuOffeVwXEDKFW8Vn2dcQPSVPXxoe1xATlg5+/BJXECyTudxi1dcQMS1Bc/ptFxAMQqRZ64zXEBs98NixeVbQKA3ZVb5XltAHCAMLYXPWkCwpQ99DB5bQPHB9MoL71tAatKY3dbTW0CGkv+qdQhcQDsSjBAd/1xA7+Orz1siXUBn9E/iJgddQH79jLb9P11A5OyrClkHXUCTF/3lPMRcQKkS4QpjulxAeHzyWrxxXEC5j384q+lbQI8lxbU4altAtPhX/3qjW0Aa1T7aSvpbQMVoaHz+cFtAmGCi2F1YW0BKJqpwDKdaQJLZXbRVe1pAU2GHkzGVWkBpX8Acu5JaQEWMLdN4WVpAtaPx0G2eWkAjsrahOM1aQPpKUYMpVVpAXzFxqloGWkDkScOVPFBaQJ9x6fMXZlpAOMMnpE07WkBapp0CuN1ZQFqg8znxzllAizyMsl4mWkDo6iMbzvBZQJLGJTvKCltAr2fajhFsW0BHhUnregZbQGtY3DS9P1tA6v8yvLgPW0CuXtth51VbQHD8kR6y51pApwEtRUpZW0DfA3MHf8NbQN1voDKyhFtAM3ctTcmfW0A5ue5X7OBaQLAVycRnblpA5VLCwmZmWkBznfKjQ4haQOC4RSXTGFpAR5iBZAZ3WkDGcUoZDz9aQA9ibE4F0llAO7+YILPvWkCONajKYNNaQPEVHinLdVpApfQHA8xDWUCPlGiIXeRYQIEu6yNTIFZAox/YKW5oWUBv9udV69haQLLyrTa0lFtAA84GJJfmW0BghZ25MMdbQCSlKPFza1tAHHD1lhWMW0BP0AkjyF1aQMyX8Q2WQVtAMdkhLJsGXEDwcC4gn4lbQNQJ8+jqcVtAwn1u19LWWkBJsl0uTx1bQJ8OOpkGI1xAxX9qLM7yXEAehO/B1iNdQPTT/5ApRl1Ag/qH+FJXXUC94Pb09zxdQMBu2HQRql1AeYAMtCrxXUCrqncpADVdQKpDivGPM19AMg7Da9pKX0Bb3niTXbheQBYPpnmGfV5AR14J4gkRXkDUyILj8O9dQFCrJJDPw11AtmB8ZDEFXUDLtfTWOItcQE4dQxC2Vl1AqzhZqRmiXUCSY2amS+RdQMrAJR+vHF5A5boQFSsqXkDDQKuO6ORdQPx4chSezV1AspgNQwpKXkCO/64VuIZeQMg3dpttb15A/lyLR6tgXkD+wmL6+WxeQEYaGEhMQ15AAtkmro51XkAAcD0hI1heQG2FSY91QV5AWZSIrQEZXkCVWjGz0G5eQJ4a6Yt6wl5Avi8Z1yucXkBR0ByDfRNeQAk0qUunXV5AWDDRHG67XkD9opwDJN1eQNkJPtbRGV9AnP+jNkX2XkBR+kZyAyNfQNkJPtbRGV9Ano2Ftl5jX0BR+kZyAyNfQOa/QhED6l5AT3GX7sF1X0A2AFx8hxVfQAK6LQd/915A8po/P+IJX0BYMNEcbrteQN4/yIA8sl5A0qmJPOFxXkAEYtYx0CJeQLnOl+104l1A7D4/98sTXkCFFkv4hTFeQGHKElhssV1A7yDDQ7ZpXUDwwm3ZbP1dQBWjU/zMlF5AEdqTbyDgXUBf+8zQLbRdQJjLJQU+l15AvFo23cLkXkCGpKO5M0VfQEb+OxIC0F5Azibd4XmNXkD06YLQYh5eQBvNsd2/M15AWNToEjHYXUDZgVa22qxdQDaTM2KREV5AkCwmzHYLXkDpxRg2XAVeQLeRdlAWMF5AjbHBZq/dXUBmTHHiD7ldQMoJzub7y11AfY2IBaIJXkAgfKtZ66RdQPbsy7pfnF1APRhtitdZXUAZ1S7/caZdQNmr5dDGkF1AYNSGoD5OXUC7GSqcUjtdQM8zLMjual1ABN1vBQktXkCBtJ38lypeQOZKtNCU111APTWtvk5gXkDom4kbcCFeQDe9wnx99V1A3au0l81LXUAbBMEXGjpdQMq7QYYdAF1Aaqcb8GkdXUBM4cqkkYRdQEDkpjp60V1Az6tHQ7kaXkBQrQRVNPxdQHnejol2mF5A2XTWlmyKXkCYyyUFPpdeQHWN6neUk15At5F2UBYwXkD+shEkFo5eQGe3DD5sRl9AMzUPMUHqXkBYTASO+4deQKpqw8sSmV5A7+mzCVxjXkBcTNNUAkNeQDe9wnx99V1AMmwea5vwXUAUsxwGODVdQBhiFoJjplxAtP+UxMo8XECWEv5IAz5cQExCafnXblxAGCGmBzgZXEDa99AvuO5bQD8oHfCxkVtAGi//4oLAW0Au+9A0FHJbQGIhO/3gYltAKiJonQ3lWUBRYVArRcpaQN6mQskNfVpAoUjIXwEPWkCrVpZQ2LZZQKDoXH86S1lA/XoeKzD8WECppmDg9FRZQL25CzzUxFlAklGl1MHdWUAXv/KxEddZQNvA4yjMLFpA+WdQNf3QWUAueZmlFVdZQDEjgTGI2VhAr2VzyvQIWUAhzcCi6H5ZQNvA4yjMLFpA2jrwaFGgWkBhcQWN/QBbQL3jTew8mlpAveNN7DyaWkDEaygdmbVaQInzDFTOl1pA0rIVOPWEWkDjSL5ZKEhaQHNnZEGvXllAMErX7aI8WUDxZWnEG0JZQFAB5Up+BlpA/TMOdoBxWkA74lJvqX1aQD6eb1+C+FlAoMLUn4aCWkClcfuGJDpbQKqqGrGpYVtAJ3P2A7hWW0DDNf/sOsdaQLWRnOs+bVpAh0SbungJXECQHzZ1GPxbQM85zc795FtACcyJ94ayW0Cw/Muxp45bQA==\",\"dtype\":\"float64\",\"shape\":[839]}},\"selected\":{\"id\":\"1308\",\"type\":\"Selection\"},\"selection_policy\":{\"id\":\"1309\",\"type\":\"UnionRenderers\"}},\"id\":\"1252\",\"type\":\"ColumnDataSource\"},{\"attributes\":{},\"id\":\"1312\",\"type\":\"Selection\"},{\"attributes\":{},\"id\":\"1295\",\"type\":\"DatetimeTickFormatter\"},{\"attributes\":{},\"id\":\"1313\",\"type\":\"UnionRenderers\"},{\"attributes\":{\"mantissas\":[1,2,5],\"max_interval\":500.0,\"num_minor_ticks\":0},\"id\":\"1296\",\"type\":\"AdaptiveTicker\"},{\"attributes\":{\"bottom_units\":\"screen\",\"fill_alpha\":{\"value\":0.5},\"fill_color\":{\"value\":\"lightgrey\"},\"left_units\":\"screen\",\"level\":\"overlay\",\"line_alpha\":{\"value\":1.0},\"line_color\":{\"value\":\"black\"},\"line_dash\":[4,4],\"line_width\":{\"value\":2},\"render_mode\":\"css\",\"right_units\":\"screen\",\"top_units\":\"screen\"},\"id\":\"1314\",\"type\":\"BoxAnnotation\"},{\"attributes\":{\"num_minor_ticks\":5,\"tickers\":[{\"id\":\"1296\",\"type\":\"AdaptiveTicker\"},{\"id\":\"1297\",\"type\":\"AdaptiveTicker\"},{\"id\":\"1298\",\"type\":\"AdaptiveTicker\"},{\"id\":\"1299\",\"type\":\"DaysTicker\"},{\"id\":\"1300\",\"type\":\"DaysTicker\"},{\"id\":\"1301\",\"type\":\"DaysTicker\"},{\"id\":\"1302\",\"type\":\"DaysTicker\"},{\"id\":\"1303\",\"type\":\"MonthsTicker\"},{\"id\":\"1304\",\"type\":\"MonthsTicker\"},{\"id\":\"1305\",\"type\":\"MonthsTicker\"},{\"id\":\"1306\",\"type\":\"MonthsTicker\"},{\"id\":\"1307\",\"type\":\"YearsTicker\"}]},\"id\":\"1232\",\"type\":\"DatetimeTicker\"},{\"attributes\":{\"base\":60,\"mantissas\":[1,2,5,10,15,20,30],\"max_interval\":1800000.0,\"min_interval\":1000.0,\"num_minor_ticks\":0},\"id\":\"1297\",\"type\":\"AdaptiveTicker\"},{\"attributes\":{},\"id\":\"1237\",\"type\":\"BasicTicker\"},{\"attributes\":{\"base\":24,\"mantissas\":[1,2,4,6,8,12],\"max_interval\":43200000.0,\"min_interval\":3600000.0,\"num_minor_ticks\":0},\"id\":\"1298\",\"type\":\"AdaptiveTicker\"},{\"attributes\":{\"callback\":null,\"data\":{\"bottom\":{\"__ndarray__\":\"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\",\"dtype\":\"float64\",\"shape\":[433]},\"top\":{\"__ndarray__\":\"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\",\"dtype\":\"float64\",\"shape\":[433]},\"x\":{\"__ndarray__\":\"AAAArPkldkIAAMBMbyJ2QgAAgBt4IXZCAABA6oAgdkIAAICELiB2QgAAwB7cH3ZCAABAUzcfdkIAAAAiQB52QgAAAIv2HHZCAADAWf8bdkIAAAD0rBt2QgAAgJG+GXZCAADAK2wZdkIAAADGGRl2QgAAQGDHGHZCAACA+nQYdkIAAACYhhZ2QgAAQJvqFHZCAACANZgUdkIAAMDPRRR2QgAAAKUWEHZCAABAqHoOdkIAAIBCKA52QgAAwNzVDXZCAAAA4DkMdkIAAEB65wt2QgAAwK5CC3ZCAAAAsqYJdkIAAEBMVAl2QgAAgE+4B3ZCAADA6WUHdkIAAIC4bgZ2QgAAQId3BXZCAABA8C0EdkIAAEBZ5AJ2QgAAgPORAnZCAADAjT8CdkIAAMD29QB2QgAAAJGjAHZCAAAAYxD+dUIAAED9vf11QgAAQM8q+3VCAABAOOH5dUIAAMBsPPl1QgAAAAfq+HVCAAAAcKD3dUIAAICk+/Z1QgAAwD6p9nVCAACADbL1dUIAAMCnX/V1QgAAQNy69HVCAAAAFHrydUIAAECuJ/J1QgAAAH0w8XVCAACAsYvwdUIAAADm5u91QgAAwLTv7nVCAAAAT53udUIAAICD+O11QgAAgOyu7HVCAAAAIQrsdUIAAEC7t+t1QgAAgFVl63VCAAAAXC3odUIAAADF4+Z1QgAAwGVZ43VCAABAmrTidUIAAIA0YuJ1QgAAQANr4XVCAADAN8bgdUIAAADSc+B1QgAAwAkz3nVCAAAApODddUIAAMBy6dx1QgAAQKdE3HVCAACAQfLbdUIAAICqqNp1QgAAQHmx2XVCAADAFsPXdUIAAACxcNd1QgAAQEse13VCAAAAGifWdUIAAIBOgtV1QgAAwOgv1XVCAAAAg93UdUIAAMBR5tN1QgAAAOyT03VCAACAIO/SdUIAAMC6nNJ1QgAAgIml0XVCAAAAvgDRdUIAAMD1v851QgAAAPkjzXVCAACALX/MdUIAAABi2st1QgAAAMuQynVCAAAAnf3HdUIAAEA3q8d1QgAAQKBhxnVCAACAOg/GdUIAAABvasV1QgAAQHLOw3VCAAAAqo3BdUIAAIBHn791QgAAwOFMv3VCAABAFqi+dUIAAICwVb51QgAAQH9evXVCAACAGQy9dUIAAMCzubx1QgAAQOgUvHVCAADAhSa6dUIAAAAg1Ll1QgAAAImKuHVCAADAV5O3dUIAAABb97V1QgAAAC1ks3VCAACAynWxdUIAAMBkI7F1QgAAAP/QsHVCAABAAjWvdUIAAMA2kK51QgAAADr0rHVCAACAbk+sdUIAAMBxs6p1QgAAAAxhqnVCAAAAdRepdUIAAICpcqh1QgAAwKzWpnVCAABA4TGmdUIAAIB736V1QgAAgOSVpHVCAABAs56jdUIAAIBNTKN1QgAAgLYConVCAADAULChdUIAAADrXaF1QgAAQIULoXVCAAAAVBSgdUIAAEDuwZ91QgAAgIhvn3VCAADAIh2fdUIAAAC9yp51QgAAACaBnXVCAABAwC6ddUIAAIBa3Jx1QgAAwPSJnHVCAADAXUCbdUIAAECSm5p1QgAAgJX/mHVCAADAL62YdUIAAADKWph1QgAAQGQImHVCAAAAMxGXdUIAAEDNvpZ1QgAAgGdslnVCAADAARqWdUIAAAAFfpR1QgAAgDnZk3VCAACAoo+SdUIAAADX6pF1QgAAQHGYkXVCAACAC0aRdUIAAIB0/I91QgAAwA6qj3VCAAAAqVePdUIAAEBDBY91QgAAABIOjnVCAABArLuNdUIAAIBGaY11QgAAwOAWjXVCAADASc2LdUIAAIAY1op1QgAAwLKDinVCAACAgYyJdUIAAIDqQoh1QgAAQLlLh3VCAACAU/mGdUIAAMDtpoZ1QgAAAIhUhnVCAAAA8QqFdUIAAIAlZoR1QgAAwL8ThHVCAAAAWsGDdUIAAMAoyoJ1QgAAQF0lgnVCAAAAleR/dUIAAEAvkn91QgAAgMk/f3VCAACAMvZ9dUIAAEAB/3x1QgAAQGq1e3VCAAAAOb56dUIAAACidHl1QgAAgD+Gd3VCAAAAdOF2dUIAAEAOj3Z1QgAAgKg8dnVCAACAEfN0dUIAAABGTnR1QgAAQEmycnVCAACA419ydUIAAMB9DXJ1QgAAABi7cXVCAABAGx9wdUIAAIAeg251QgAAwLgwbnVCAAAAU95tdUIAAEDti211QgAAgIc5bXVCAACA8O9rdUIAAAAlS2t1QgAAAI4BanVCAACAwlxpdUIAAAD3t2h1QgAAwMXAZ3VCAACAlMlmdUIAAMAud2Z1QgAAgP1/ZXVCAADAly1ldUIAAAAy22R1QgAAgGY2ZHVCAABANT9jdUIAAIDP7GJ1QgAAwDsHYHVCAAAA1rRfdUIAAAA/a151QgAAgHPGXXVCAADADXRddUIAAIDcfFx1QgAAwHYqXHVCAAAAEdhbdUIAAEAUPFp1QgAAgK7pWXVCAADASJdZdUIAAADjRFl1QgAAAEz7V3VCAABA5qhXdUIAAMAaBFd1QgAAAB5oVXVCAACAUsNUdUIAAIC7eVN1QgAAwFUnU3VCAACAJDBSdUIAAEDzOFF1QgAAgI3mUHVCAAAAwkFQdUIAAAAr+E51QgAAQMWlTnVCAACAX1NOdUIAAMD5AE51QgAAAJSuTXVCAADAYrdMdUIAAECXEkx1QgAAwMttS3VCAACAmnZKdUIAAEBpf0l1QgAAAKE+R3VCAACAPlBFdUIAAMDY/UR1QgAAAHOrRHVCAADAQbRDdUIAAEB2D0N1QgAAwBMhQXVCAAAArs5AdUIAAEBIfEB1QgAAgOIpQHVCAADA5Y0+dUIAAACAOz51QgAAQBrpPXVCAAAA6fE8dUIAAIAdTTx1QgAAwLf6O3VCAAAAu146dUIAAIDvuTl1QgAAwPIdOHVCAAAAjcs3dUIAAEAneTd1QgAAgMEmN3VCAABAkC82dUIAAABfODV1QgAAAMjuM3VCAABAYpwzdUIAAID8STN1QgAAwJb3MnVCAAAAmlsxdUIAAEA0CTF1QgAAwGhkMHVCAACAN20vdUIAAABsyC51QgAAQAZ2LnVCAAAAPjUsdUIAAEDY4it1QgAAQEGZKnVCAACA20YqdUIAAMDeqih1QgAAAHlYKHVCAACArbMndUIAAIAWaiZ1QgAAAEvFJXVCAABATikkdUIAAIDo1iN1QgAAgLpDIXVCAAAA754gdUIAAICMsB51QgAAACrCHHVCAACAXh0cdUIAAMBhgRp1QgAAQJbcGXVCAABA/5IYdUIAAMAz7hd1QgAAwJykFnVCAADABVsVdUIAAECjbBN1QgAAQAwjEnVCAACAptARdUIAAMBAfhF1QgAAQHXZEHVCAACASqoMdUIAAMDkVwx1QgAAwE0OC3VCAAAA6LsKdUIAAEDrHwl1QgAAgIXNCHVCAAAAuigIdUIAAEBU1gd1QgAAQL2MBnVCAADA8ecFdUIAAMBangR1QgAAgCmnA3VCAADAw1QDdUIAAICSXQJ1QgAAwCwLAnVCAACAZMr/dEIAAMD+d/90QgAAAJkl/3RCAABAM9P+dEIAAAAC3P10QgAAgDY3/XRCAADA0OT8dEIAAMA5m/t0QgAAANRI+3RCAACACKT6dEIAAIBxWvl0QgAAAKa1+HRCAACA2hD4dEIAAECpGfd0QgAAgEPH9nRCAADA3XT2dEIAAEAS0PV0QgAAwK/h83RCAAAASo/zdEIAAMAYmPJ0QgAAQE3z8XRCAADAgU7xdEIAAIBQV/B0QgAAAIWy73RCAACAIsTtdEIAAID0MOt0QgAAACmM6nRCAADA95TpdEIAAACSQul0QgAAQCzw6HRCAADAYEvodEIAAIAvVOd0QgAAgJgK5nRCAACAAcHkdEIAAIDTLeJ0QgAAAAiJ4XRCAAAAcT/gdEIAAIClmt90QgAAwD9I33RCAAAAQ6zddEIAAEDdWd10QgAAABUZ23RCAACAsirZdEIAAMC1jtd0QgAAAFA813RCAABA6unWdEIAAMAeRdZ0QgAAwIf71HRCAABAvFbUdEIAAEAlDdN0QgAAgL+60nRCAAAAXczQdEIAAADGgs90QgAAAC85znRCAABAyebNdEIAAMD9Qc10QgAAAAGmy3RCAABABArKdEIAAICet8l0QgAAQG3AyHRCAABA1nbHdEIAAAClf8Z0QgAAAA42xXRCAADA3D7EdEIAAADgosJ0QgAAQHpQwnRCAACAFP7BdEIAAIB9tMB0QgAAwOnOvXRCAAAA7TK8dEIAAMC7O7t0QgAAgIpEunRCAAAAv5+5dEIAAEBZTbl0QgAAgFyxt3RCAADA9l63dEIAAACRDLd0QgAAQCu6tnRCAACALh61dEIAAMDIy7R0QgAAAGN5tHRCAAAAzC+zdEIAAIBpQbF0QgAAwAPvsHRCAAAAnpywdEIAAEA4SrB0QgAAwNVbrnRCAABAc22sdEIAAIANG6x0QgAAwHk1qXRCAACASD6odEIAAICx9KZ0QgAAgBqrpXRCAADAtFildEIAAABPBqV0QgAAwIbFonRCAABAJNegdEIAAIC+hKB0QgAAAFyWnnRCAACAkPGddEI=\",\"dtype\":\"float64\",\"shape\":[433]}},\"selected\":{\"id\":\"1310\",\"type\":\"Selection\"},\"selection_policy\":{\"id\":\"1311\",\"type\":\"UnionRenderers\"}},\"id\":\"1257\",\"type\":\"ColumnDataSource\"},{\"attributes\":{\"days\":[1,2,3,4,5,6,7,8,9,10,11,12,13,14,15,16,17,18,19,20,21,22,23,24,25,26,27,28,29,30,31]},\"id\":\"1299\",\"type\":\"DaysTicker\"},{\"attributes\":{\"bottom\":{\"field\":\"bottom\"},\"fill_color\":{\"value\":\"#D5E1DD\"},\"top\":{\"field\":\"top\"},\"width\":{\"value\":43200000},\"x\":{\"field\":\"x\"}},\"id\":\"1258\",\"type\":\"VBar\"},{\"attributes\":{\"bottom\":{\"field\":\"bottom\"},\"fill_alpha\":{\"value\":0.1},\"fill_color\":{\"value\":\"#1f77b4\"},\"line_alpha\":{\"value\":0.1},\"line_color\":{\"value\":\"#1f77b4\"},\"top\":{\"field\":\"top\"},\"width\":{\"value\":43200000},\"x\":{\"field\":\"x\"}},\"id\":\"1259\",\"type\":\"VBar\"},{\"attributes\":{\"days\":[1,4,7,10,13,16,19,22,25,28]},\"id\":\"1300\",\"type\":\"DaysTicker\"},{\"attributes\":{\"formatter\":{\"id\":\"1295\",\"type\":\"DatetimeTickFormatter\"},\"major_label_orientation\":0.7853981633974483,\"ticker\":{\"id\":\"1232\",\"type\":\"DatetimeTicker\"}},\"id\":\"1231\",\"type\":\"DatetimeAxis\"},{\"attributes\":{\"days\":[1,8,15,22]},\"id\":\"1301\",\"type\":\"DaysTicker\"},{\"attributes\":{\"data_source\":{\"id\":\"1257\",\"type\":\"ColumnDataSource\"},\"glyph\":{\"id\":\"1258\",\"type\":\"VBar\"},\"hover_glyph\":null,\"muted_glyph\":null,\"nonselection_glyph\":{\"id\":\"1259\",\"type\":\"VBar\"},\"selection_glyph\":null,\"view\":{\"id\":\"1261\",\"type\":\"CDSView\"}},\"id\":\"1260\",\"type\":\"GlyphRenderer\"},{\"attributes\":{\"grid_line_alpha\":0.3,\"ticker\":{\"id\":\"1232\",\"type\":\"DatetimeTicker\"}},\"id\":\"1235\",\"type\":\"Grid\"},{\"attributes\":{},\"id\":\"1241\",\"type\":\"PanTool\"},{\"attributes\":{\"days\":[1,15]},\"id\":\"1302\",\"type\":\"DaysTicker\"},{\"attributes\":{\"x0\":{\"field\":\"x0\"},\"x1\":{\"field\":\"x1\"},\"y0\":{\"field\":\"y0\"},\"y1\":{\"field\":\"y1\"}},\"id\":\"1253\",\"type\":\"Segment\"},{\"attributes\":{\"source\":{\"id\":\"1257\",\"type\":\"ColumnDataSource\"}},\"id\":\"1261\",\"type\":\"CDSView\"},{\"attributes\":{\"formatter\":{\"id\":\"1293\",\"type\":\"BasicTickFormatter\"},\"ticker\":{\"id\":\"1237\",\"type\":\"BasicTicker\"}},\"id\":\"1236\",\"type\":\"LinearAxis\"},{\"attributes\":{\"months\":[0,1,2,3,4,5,6,7,8,9,10,11]},\"id\":\"1303\",\"type\":\"MonthsTicker\"},{\"attributes\":{\"dimension\":1,\"grid_line_alpha\":0.3,\"ticker\":{\"id\":\"1237\",\"type\":\"BasicTicker\"}},\"id\":\"1240\",\"type\":\"Grid\"},{\"attributes\":{\"months\":[0,2,4,6,8,10]},\"id\":\"1304\",\"type\":\"MonthsTicker\"},{\"attributes\":{\"months\":[0,4,8]},\"id\":\"1305\",\"type\":\"MonthsTicker\"}],\"root_ids\":[\"1220\"]},\"title\":\"Bokeh Application\",\"version\":\"1.3.4\"}};\n",
       "  var render_items = [{\"docid\":\"ad970c76-d15a-4945-b536-b64746e9d97a\",\"roots\":{\"1220\":\"ea2001d8-85b6-4aa0-8db6-ceb8d92ec563\"}}];\n",
       "  root.Bokeh.embed.embed_items_notebook(docs_json, render_items);\n",
       "\n",
       "  }\n",
       "  if (root.Bokeh !== undefined) {\n",
       "    embed_document(root);\n",
       "  } else {\n",
       "    var attempts = 0;\n",
       "    var timer = setInterval(function(root) {\n",
       "      if (root.Bokeh !== undefined) {\n",
       "        embed_document(root);\n",
       "        clearInterval(timer);\n",
       "      }\n",
       "      attempts++;\n",
       "      if (attempts > 100) {\n",
       "        console.log(\"Bokeh: ERROR: Unable to run BokehJS code because BokehJS library is missing\");\n",
       "        clearInterval(timer);\n",
       "      }\n",
       "    }, 10, root)\n",
       "  }\n",
       "})(window);"
      ],
      "application/vnd.bokehjs_exec.v0+json": ""
     },
     "metadata": {
      "application/vnd.bokehjs_exec.v0+json": {
       "id": "1220"
      }
     },
     "output_type": "display_data"
    }
   ],
   "source": [
    "inc = df.AdjClose > df.AdjOpen\n",
    "dec = df.AdjOpen > df.AdjClose\n",
    "w = 12*60*60*1000 # half day in ms\n",
    "\n",
    "TOOLS = \"pan,wheel_zoom,box_zoom,reset,save\"\n",
    "\n",
    "p = figure(x_axis_type=\"datetime\", tools=TOOLS, plot_width=750, plot_height=400, title = \"AAPL Candlestick\")\n",
    "p.xaxis.major_label_orientation = pi/4\n",
    "p.grid.grid_line_alpha=0.3\n",
    "\n",
    "p.segment(df.Date, df.AdjHigh, df.Date, df.AdjLow, color=\"black\")\n",
    "p.vbar(df.Date[inc], w, df.AdjOpen[inc], df.AdjClose[inc], fill_color=\"#D5E1DD\", line_color=\"black\")\n",
    "p.vbar(df.Date[dec], w, df.AdjOpen[dec], df.AdjClose[dec], fill_color=\"#F2583E\", line_color=\"black\")\n",
    "\n",
    "show(p)  # open a browser\n"
   ]
  },
  {
   "cell_type": "markdown",
   "metadata": {
    "slideshow": {
     "slide_type": "slide"
    }
   },
   "source": [
    "### Example: Quandl API\n",
    "\n",
    "- [Quandl](https://www.quandl.com/) sells financial data\n",
    "\n",
    "- Their data is available as products (to buy). However, some are provided freely to the community.\n",
    "\n",
    "* [Quandl API documentation](https://docs.quandl.com/)\n",
    "* [Quickstart page for python](https://www.quandl.com/tools/python)\n",
    "* [WIKI data](https://www.quandl.com/databases/WIKIP) is free stock data\n",
    "\n",
    "There is a wealth of other free data:\n",
    "* [Search for free data](https://www.quandl.com/search?query=&filter[]=Free)\n",
    "* [Free data from Zillow: Percent of homes decreasing in value -Bardstown, KY](https://www.quandl.com/data/ZILLOW/M632_PHDVAH-Zillow-Home-Value-Index-Metro-Percent-Of-Homes-Decreasing-In-Values-All-Homes-Bardstown-KY)\n",
    "* On the right-side menu under \"EXPORT DATA\", locate the link for \"python\"\n",
    "* My code reads something like `quandl.get(\"ZILLOW/M632_PHDVAH\", authtoken=\"...myapikey...\")`"
   ]
  },
  {
   "cell_type": "code",
   "execution_count": 10,
   "metadata": {},
   "outputs": [
    {
     "name": "stdout",
     "output_type": "stream",
     "text": [
      "Requirement already satisfied: quandl in /opt/conda/lib/python3.7/site-packages (3.4.8)\n",
      "Requirement already satisfied: more-itertools<=5.0.0 in /opt/conda/lib/python3.7/site-packages (from quandl) (5.0.0)\n",
      "Requirement already satisfied: inflection>=0.3.1 in /opt/conda/lib/python3.7/site-packages (from quandl) (0.3.1)\n",
      "Requirement already satisfied: pandas>=0.14 in /opt/conda/lib/python3.7/site-packages (from quandl) (0.25.1)\n",
      "Requirement already satisfied: requests>=2.7.0 in /opt/conda/lib/python3.7/site-packages (from quandl) (2.12.4)\n",
      "Requirement already satisfied: ndg-httpsclient in /opt/conda/lib/python3.7/site-packages (from quandl) (0.5.1)\n",
      "Requirement already satisfied: numpy>=1.8 in /opt/conda/lib/python3.7/site-packages (from quandl) (1.17.2)\n",
      "Requirement already satisfied: six in /opt/conda/lib/python3.7/site-packages (from quandl) (1.12.0)\n",
      "Requirement already satisfied: pyOpenSSL in /opt/conda/lib/python3.7/site-packages (from quandl) (19.0.0)\n",
      "Requirement already satisfied: pyasn1 in /opt/conda/lib/python3.7/site-packages (from quandl) (0.4.8)\n",
      "Requirement already satisfied: python-dateutil in /opt/conda/lib/python3.7/site-packages (from quandl) (2.8.0)\n",
      "Requirement already satisfied: pytz>=2017.2 in /opt/conda/lib/python3.7/site-packages (from pandas>=0.14->quandl) (2019.2)\n",
      "Requirement already satisfied: cryptography>=2.3 in /opt/conda/lib/python3.7/site-packages (from pyOpenSSL->quandl) (2.7)\n",
      "Requirement already satisfied: asn1crypto>=0.21.0 in /opt/conda/lib/python3.7/site-packages (from cryptography>=2.3->pyOpenSSL->quandl) (0.24.0)\n",
      "Requirement already satisfied: cffi!=1.11.3,>=1.8 in /opt/conda/lib/python3.7/site-packages (from cryptography>=2.3->pyOpenSSL->quandl) (1.12.3)\n",
      "Requirement already satisfied: pycparser in /opt/conda/lib/python3.7/site-packages (from cffi!=1.11.3,>=1.8->cryptography>=2.3->pyOpenSSL->quandl) (2.19)\n"
     ]
    }
   ],
   "source": [
    "!pip install quandl"
   ]
  },
  {
   "cell_type": "code",
   "execution_count": 11,
   "metadata": {
    "slideshow": {
     "slide_type": "slide"
    }
   },
   "outputs": [
    {
     "data": {
      "text/html": [
       "<div>\n",
       "<style scoped>\n",
       "    .dataframe tbody tr th:only-of-type {\n",
       "        vertical-align: middle;\n",
       "    }\n",
       "\n",
       "    .dataframe tbody tr th {\n",
       "        vertical-align: top;\n",
       "    }\n",
       "\n",
       "    .dataframe thead th {\n",
       "        text-align: right;\n",
       "    }\n",
       "</style>\n",
       "<table border=\"1\" class=\"dataframe\">\n",
       "  <thead>\n",
       "    <tr style=\"text-align: right;\">\n",
       "      <th></th>\n",
       "      <th>Value</th>\n",
       "    </tr>\n",
       "    <tr>\n",
       "      <th>Date</th>\n",
       "      <th></th>\n",
       "    </tr>\n",
       "  </thead>\n",
       "  <tbody>\n",
       "    <tr>\n",
       "      <td>2005-10-31</td>\n",
       "      <td>27.30</td>\n",
       "    </tr>\n",
       "    <tr>\n",
       "      <td>2005-11-30</td>\n",
       "      <td>26.36</td>\n",
       "    </tr>\n",
       "    <tr>\n",
       "      <td>2005-12-31</td>\n",
       "      <td>19.63</td>\n",
       "    </tr>\n",
       "    <tr>\n",
       "      <td>2006-01-31</td>\n",
       "      <td>14.43</td>\n",
       "    </tr>\n",
       "    <tr>\n",
       "      <td>2006-02-28</td>\n",
       "      <td>11.54</td>\n",
       "    </tr>\n",
       "  </tbody>\n",
       "</table>\n",
       "</div>"
      ],
      "text/plain": [
       "            Value\n",
       "Date             \n",
       "2005-10-31  27.30\n",
       "2005-11-30  26.36\n",
       "2005-12-31  19.63\n",
       "2006-01-31  14.43\n",
       "2006-02-28  11.54"
      ]
     },
     "execution_count": 11,
     "metadata": {},
     "output_type": "execute_result"
    }
   ],
   "source": [
    "import quandl\n",
    "\n",
    "out = quandl.get(\"ZILLOW/M632_PHDVAH\", authtoken=m.apikeys['quandl'])\n",
    "\n",
    "out.head()"
   ]
  },
  {
   "cell_type": "code",
   "execution_count": 12,
   "metadata": {
    "slideshow": {
     "slide_type": "slide"
    }
   },
   "outputs": [
    {
     "data": {
      "text/html": [
       "\n",
       "\n",
       "\n",
       "\n",
       "\n",
       "\n",
       "  <div class=\"bk-root\" id=\"76d5ab99-dee5-43ba-b09e-f5fbc25451d2\" data-root-id=\"1459\"></div>\n"
      ]
     },
     "metadata": {},
     "output_type": "display_data"
    },
    {
     "data": {
      "application/javascript": [
       "(function(root) {\n",
       "  function embed_document(root) {\n",
       "    \n",
       "  var docs_json = {\"4a8dcaa2-4bd9-4ca8-8465-9156ae199d44\":{\"roots\":{\"references\":[{\"attributes\":{\"below\":[{\"id\":\"1470\",\"type\":\"DatetimeAxis\"}],\"center\":[{\"id\":\"1474\",\"type\":\"Grid\"},{\"id\":\"1479\",\"type\":\"Grid\"}],\"left\":[{\"id\":\"1475\",\"type\":\"LinearAxis\"}],\"plot_height\":400,\"plot_width\":750,\"renderers\":[{\"id\":\"1496\",\"type\":\"GlyphRenderer\"}],\"title\":{\"id\":\"1460\",\"type\":\"Title\"},\"toolbar\":{\"id\":\"1486\",\"type\":\"Toolbar\"},\"x_range\":{\"id\":\"1462\",\"type\":\"DataRange1d\"},\"x_scale\":{\"id\":\"1466\",\"type\":\"LinearScale\"},\"y_range\":{\"id\":\"1464\",\"type\":\"DataRange1d\"},\"y_scale\":{\"id\":\"1468\",\"type\":\"LinearScale\"}},\"id\":\"1459\",\"subtype\":\"Figure\",\"type\":\"Plot\"},{\"attributes\":{},\"id\":\"1481\",\"type\":\"WheelZoomTool\"},{\"attributes\":{\"days\":[1,8,15,22]},\"id\":\"1556\",\"type\":\"DaysTicker\"},{\"attributes\":{\"days\":[1,4,7,10,13,16,19,22,25,28]},\"id\":\"1555\",\"type\":\"DaysTicker\"},{\"attributes\":{\"overlay\":{\"id\":\"1565\",\"type\":\"BoxAnnotation\"}},\"id\":\"1482\",\"type\":\"BoxZoomTool\"},{\"attributes\":{\"text\":\"Zillow: Proportion of homes decreasing in value\"},\"id\":\"1460\",\"type\":\"Title\"},{\"attributes\":{\"days\":[1,15]},\"id\":\"1557\",\"type\":\"DaysTicker\"},{\"attributes\":{\"callback\":null},\"id\":\"1462\",\"type\":\"DataRange1d\"},{\"attributes\":{\"line_alpha\":0.1,\"line_color\":\"#1f77b4\",\"x\":{\"field\":\"x\"},\"y\":{\"field\":\"y\"}},\"id\":\"1495\",\"type\":\"Line\"},{\"attributes\":{\"callback\":null},\"id\":\"1464\",\"type\":\"DataRange1d\"},{\"attributes\":{},\"id\":\"1562\",\"type\":\"YearsTicker\"},{\"attributes\":{\"source\":{\"id\":\"1493\",\"type\":\"ColumnDataSource\"}},\"id\":\"1497\",\"type\":\"CDSView\"},{\"attributes\":{},\"id\":\"1466\",\"type\":\"LinearScale\"},{\"attributes\":{\"line_color\":\"#1f77b4\",\"x\":{\"field\":\"x\"},\"y\":{\"field\":\"y\"}},\"id\":\"1494\",\"type\":\"Line\"},{\"attributes\":{\"active_drag\":\"auto\",\"active_inspect\":\"auto\",\"active_multi\":null,\"active_scroll\":\"auto\",\"active_tap\":\"auto\",\"tools\":[{\"id\":\"1480\",\"type\":\"PanTool\"},{\"id\":\"1481\",\"type\":\"WheelZoomTool\"},{\"id\":\"1482\",\"type\":\"BoxZoomTool\"},{\"id\":\"1483\",\"type\":\"SaveTool\"},{\"id\":\"1484\",\"type\":\"ResetTool\"},{\"id\":\"1485\",\"type\":\"HelpTool\"}]},\"id\":\"1486\",\"type\":\"Toolbar\"},{\"attributes\":{},\"id\":\"1468\",\"type\":\"LinearScale\"},{\"attributes\":{},\"id\":\"1550\",\"type\":\"DatetimeTickFormatter\"},{\"attributes\":{\"base\":60,\"mantissas\":[1,2,5,10,15,20,30],\"max_interval\":1800000.0,\"min_interval\":1000.0,\"num_minor_ticks\":0},\"id\":\"1552\",\"type\":\"AdaptiveTicker\"},{\"attributes\":{},\"id\":\"1485\",\"type\":\"HelpTool\"},{\"attributes\":{\"formatter\":{\"id\":\"1550\",\"type\":\"DatetimeTickFormatter\"},\"ticker\":{\"id\":\"1471\",\"type\":\"DatetimeTicker\"}},\"id\":\"1470\",\"type\":\"DatetimeAxis\"},{\"attributes\":{\"mantissas\":[1,2,5],\"max_interval\":500.0,\"num_minor_ticks\":0},\"id\":\"1551\",\"type\":\"AdaptiveTicker\"},{\"attributes\":{},\"id\":\"1484\",\"type\":\"ResetTool\"},{\"attributes\":{\"num_minor_ticks\":5,\"tickers\":[{\"id\":\"1551\",\"type\":\"AdaptiveTicker\"},{\"id\":\"1552\",\"type\":\"AdaptiveTicker\"},{\"id\":\"1553\",\"type\":\"AdaptiveTicker\"},{\"id\":\"1554\",\"type\":\"DaysTicker\"},{\"id\":\"1555\",\"type\":\"DaysTicker\"},{\"id\":\"1556\",\"type\":\"DaysTicker\"},{\"id\":\"1557\",\"type\":\"DaysTicker\"},{\"id\":\"1558\",\"type\":\"MonthsTicker\"},{\"id\":\"1559\",\"type\":\"MonthsTicker\"},{\"id\":\"1560\",\"type\":\"MonthsTicker\"},{\"id\":\"1561\",\"type\":\"MonthsTicker\"},{\"id\":\"1562\",\"type\":\"YearsTicker\"}]},\"id\":\"1471\",\"type\":\"DatetimeTicker\"},{\"attributes\":{\"data_source\":{\"id\":\"1493\",\"type\":\"ColumnDataSource\"},\"glyph\":{\"id\":\"1494\",\"type\":\"Line\"},\"hover_glyph\":null,\"muted_glyph\":null,\"nonselection_glyph\":{\"id\":\"1495\",\"type\":\"Line\"},\"selection_glyph\":null,\"view\":{\"id\":\"1497\",\"type\":\"CDSView\"}},\"id\":\"1496\",\"type\":\"GlyphRenderer\"},{\"attributes\":{\"ticker\":{\"id\":\"1471\",\"type\":\"DatetimeTicker\"}},\"id\":\"1474\",\"type\":\"Grid\"},{\"attributes\":{},\"id\":\"1483\",\"type\":\"SaveTool\"},{\"attributes\":{\"formatter\":{\"id\":\"1548\",\"type\":\"BasicTickFormatter\"},\"ticker\":{\"id\":\"1476\",\"type\":\"BasicTicker\"}},\"id\":\"1475\",\"type\":\"LinearAxis\"},{\"attributes\":{},\"id\":\"1564\",\"type\":\"UnionRenderers\"},{\"attributes\":{},\"id\":\"1476\",\"type\":\"BasicTicker\"},{\"attributes\":{\"base\":24,\"mantissas\":[1,2,4,6,8,12],\"max_interval\":43200000.0,\"min_interval\":3600000.0,\"num_minor_ticks\":0},\"id\":\"1553\",\"type\":\"AdaptiveTicker\"},{\"attributes\":{\"dimension\":1,\"ticker\":{\"id\":\"1476\",\"type\":\"BasicTicker\"}},\"id\":\"1479\",\"type\":\"Grid\"},{\"attributes\":{\"months\":[0,6]},\"id\":\"1561\",\"type\":\"MonthsTicker\"},{\"attributes\":{\"months\":[0,2,4,6,8,10]},\"id\":\"1559\",\"type\":\"MonthsTicker\"},{\"attributes\":{\"callback\":null,\"data\":{\"x\":{\"__ndarray__\":\"AABAkj90cEIAAMB+531wQgAAANHhh3BCAABAI9yRcEIAAEBE35pwQgAAgJbZpHBCAAAAg4GucEIAAEDVe7hwQgAAwMEjwnBCAAAAFB7McEIAAEBmGNZwQgAAwFLA33BCAAAApbrpcEIAAICRYvNwQgAAwONc/XBCAAAANlcHcUIAAABXWhBxQgAAQKlUGnFCAADAlfwjcUIAAADo9i1xQgAAgNSeN3FCAADAJplBcUIAAAB5k0txQgAAgGU7VXFCAADAtzVfcUIAAECk3WhxQgAAgPbXcnFCAADASNJ8cUIAAIDPJ4ZxQgAAwCEikHFCAABADsqZcUIAAIBgxKNxQgAAAE1srXFCAABAn2a3cUIAAIDxYMFxQgAAAN4Iy3FCAABAMAPVcUIAAMAcq95xQgAAAG+l6HFCAABAwZ/ycUIAAEDiovtxQgAAgDSdBXJCAAAAIUUPckIAAEBzPxlyQgAAwF/nInJCAAAAsuEsckIAAEAE3DZyQgAAwPCDQHJCAAAAQ35KckIAAIAvJlRyQgAAwIEgXnJCAAAA1BpockIAAAD1HXFyQgAAQEcYe3JCAADAM8CEckIAAACGuo5yQgAAgHJimHJCAADAxFyickIAAAAXV6xyQgAAgAP/tXJCAADAVfm/ckIAAEBCoclyQgAAgJSb03JCAADA5pXdckIAAMAHmeZyQgAAAFqT8HJCAACARjv6ckIAAMCYNQRzQgAAQIXdDXNCAACA19cXc0IAAMAp0iFzQgAAQBZ6K3NCAACAaHQ1c0IAAABVHD9zQgAAQKcWSXNCAACA+RBTc0IAAECAZlxzQgAAgNJgZnNCAAAAvwhwc0IAAEARA3pzQgAAwP2qg3NCAAAAUKWNc0IAAECin5dzQgAAwI5HoXNCAAAA4UGrc0IAAIDN6bRzQgAAwB/kvnNCAAAAct7Ic0IAAACT4dFzQgAAQOXb23NCAADA0YPlc0IAAAAkfu9zQgAAgBAm+XNCAADAYiADdEIAAAC1Gg10QgAAgKHCFnRCAADA87wgdEIAAEDgZCp0QgAAgDJfNHRCAADAhFk+dEIAAMClXEd0QgAAAPhWUXRCAACA5P5adEIAAMA2+WR0QgAAQCOhbnRCAACAdZt4dEIAAMDHlYJ0QgAAQLQ9jHRCAACABjiWdEIAAADz3590QgAAQEXaqXRCAACAl9SzdEIAAIC417x0QgAAwArSxnRCAABA93nQdEIAAIBJdNp0QgAAADYc5HRCAABAiBbudEIAAIDaEPh0QgAAAMe4AXVCAABAGbMLdUIAAMAFWxV1QgAAAFhVH3VCAABAqk8pdUIAAAAxpTJ1QgAAQIOfPHVCAADAb0dGdUIAAADCQVB1QgAAgK7pWXVCAADAAORjdUIAAABT3m11QgAAgD+Gd3VCAADAkYCBdUIAAEB+KIt1QgAAgNAilXVCAADAIh2fdUIAAMBDIKh1QgAAAJYasnVCAACAgsK7dUIAAMDUvMV1QgAAQMFkz3VCAACAE1/ZdUIAAMBlWeN1QgAAQFIB7XVCAACApPv2dUIAAACRowB2QgAAQOOdCnZCAACANZgUdkIAAIBWmx12QgAAwKiVJ3ZCAABAlT0xdkIAAIDnNzt2QgAAANTfRHZCAABAJtpOdkIAAIB41Fh2QgAAAGV8YnZCAABAt3ZsdkIAAMCjHnZ2QgAAAPYYgHZCAABASBOKdkIAAEBpFpN2QgAAgLsQnXZCAAAAqLimdkI=\",\"dtype\":\"float64\",\"shape\":[163]},\"y\":{\"__ndarray__\":\"zczMzMxMO0Bcj8L1KFw6QOF6FK5HoTNAXI/C9SjcLEAUrkfhehQnQOxRuB6F6y1AKVyPwvUoMEBI4XoUrscrQOxRuB6FayhAZmZmZmbmIEBI4XoUrkcgQOxRuB6FaylAmpmZmZnZMUAzMzMzM3M0QBSuR+F69EBAMzMzMzNTRUC4HoXrUfhFQIXrUbgepUZAAAAAAAAgTECPwvUoXM9NQArXo3A96kxAmpmZmZkZSECPwvUoXM9BQPYoXI/C9S1A9ihcj8L1IUBmZmZmZmYaQKRwPQrXowZAFK5H4XoUBEDsUbgehesFQEjhehSuR/U/j8L1KFyP8j/D9Shcj8LlP4XrUbgehfM/H4XrUbgeD0DsUbgehStBQPYoXI/CtVdAFK5H4XpEWEDhehSuR6FYQI/C9Shc31hAKVyPwvXoRkC4HoXrUVhEQNejcD0Kd0NAPQrXo3CdQ0ApXI/C9ehDQAAAAAAAwENA7FG4HoUrQ0Bcj8L1KPxBQLgehetRuEFA9ihcj8J1QUCuR+F6FI5AQLgehetRuD5APQrXo3DdQEAUrkfhelQ9QMP1KFyPgkJAPQrXo3DdQ0DXo3A9CjdDQMP1KFyP4kNAexSuR+GaRkAUrkfhenRJQGZmZmZmBklAKVyPwvXoSEBxPQrXo1BLQD0K16NwPU1Aj8L1KFwPTUAzMzMzMzNTQM3MzMzMjFVAhetRuB6VVUDNzMzMzLxVQM3MzMzMvFZAexSuR+EaV0CPwvUoXP9WQB+F61G4vlZA16NwPQrnVUDhehSuR5FUQFK4HoXrcVNAMzMzMzNTVEA9CtejcM1SQGZmZmZmRktA4XoUrkdhR0CPwvUoXO9CQLgehetReDpA16NwPQqXOkCamZmZmdk5QGZmZmZm5kBAKVyPwvVIQEDD9Shcj4I/QFyPwvUofEJASOF6FK7nQUA9CtejcJ1EQEjhehSuh0dASOF6FK4nSkDsUbgehQtNQGZmZmZmRk9Aj8L1KFyvT0C4HoXrUfhOQGZmZmZmRktAUrgehetxS0AfhetRuN5NQB+F61G4fktAUrgehesRTEBxPQrXo9BLQHE9CtejkExAj8L1KFyvTkB7FK5H4XpPQOF6FK5HgU9A9ihcj8IVT0CkcD0K16NPQGZmZmZm5k9AzczMzMysT0BmZmZmZkZPQNejcD0KV1BAzczMzMxcUEDXo3A9CmdQQGZmZmZmBk5AexSuR+EaTUCuR+F6FG5MQGZmZmZm5kpA7FG4HoXLSEA9CtejcF1GQOF6FK5HgUVA16NwPQqXQkCkcD0K1wNCQJqZmZmZCVBAcT0K16NwQEAAAAAAAIA5QJqZmZmZmThAexSuR+F6OkDXo3A9CtcZQD0K16NwPRBAw/UoXI/CCUCamZmZmZkFQPYoXI/C9QRAUrgehetRH0ApXI/C9SgtQEjhehSuxytA9ihcj8L1HUA9CtejcD0hQNejcD0K1xxAFK5H4XoUIkCkcD0K1yMmQHE9CtejcDRAexSuR+H6LUCamZmZmRktQFyPwvUo3CtArkfhehSuGkBI4XoUrkcQQM3MzMzMzBhAj8L1KFyPI0CPwvUoXE8xQFK4HoXrUStA4XoUrkdhK0Bcj8L1KFwmQAAAAAAAgCxAcT0K16PwLEC4HoXrUfhCQMP1KFyPElFASOF6FK6nTkCPwvUoXO9IQHsUrkfhGkVACtejcD2qQUBI4XoUroc6QB+F61G4XjtAUrgehetRNkA=\",\"dtype\":\"float64\",\"shape\":[163]}},\"selected\":{\"id\":\"1563\",\"type\":\"Selection\"},\"selection_policy\":{\"id\":\"1564\",\"type\":\"UnionRenderers\"}},\"id\":\"1493\",\"type\":\"ColumnDataSource\"},{\"attributes\":{\"bottom_units\":\"screen\",\"fill_alpha\":{\"value\":0.5},\"fill_color\":{\"value\":\"lightgrey\"},\"left_units\":\"screen\",\"level\":\"overlay\",\"line_alpha\":{\"value\":1.0},\"line_color\":{\"value\":\"black\"},\"line_dash\":[4,4],\"line_width\":{\"value\":2},\"render_mode\":\"css\",\"right_units\":\"screen\",\"top_units\":\"screen\"},\"id\":\"1565\",\"type\":\"BoxAnnotation\"},{\"attributes\":{},\"id\":\"1548\",\"type\":\"BasicTickFormatter\"},{\"attributes\":{},\"id\":\"1563\",\"type\":\"Selection\"},{\"attributes\":{\"months\":[0,1,2,3,4,5,6,7,8,9,10,11]},\"id\":\"1558\",\"type\":\"MonthsTicker\"},{\"attributes\":{\"months\":[0,4,8]},\"id\":\"1560\",\"type\":\"MonthsTicker\"},{\"attributes\":{\"days\":[1,2,3,4,5,6,7,8,9,10,11,12,13,14,15,16,17,18,19,20,21,22,23,24,25,26,27,28,29,30,31]},\"id\":\"1554\",\"type\":\"DaysTicker\"},{\"attributes\":{},\"id\":\"1480\",\"type\":\"PanTool\"}],\"root_ids\":[\"1459\"]},\"title\":\"Bokeh Application\",\"version\":\"1.3.4\"}};\n",
       "  var render_items = [{\"docid\":\"4a8dcaa2-4bd9-4ca8-8465-9156ae199d44\",\"roots\":{\"1459\":\"76d5ab99-dee5-43ba-b09e-f5fbc25451d2\"}}];\n",
       "  root.Bokeh.embed.embed_items_notebook(docs_json, render_items);\n",
       "\n",
       "  }\n",
       "  if (root.Bokeh !== undefined) {\n",
       "    embed_document(root);\n",
       "  } else {\n",
       "    var attempts = 0;\n",
       "    var timer = setInterval(function(root) {\n",
       "      if (root.Bokeh !== undefined) {\n",
       "        embed_document(root);\n",
       "        clearInterval(timer);\n",
       "      }\n",
       "      attempts++;\n",
       "      if (attempts > 100) {\n",
       "        console.log(\"Bokeh: ERROR: Unable to run BokehJS code because BokehJS library is missing\");\n",
       "        clearInterval(timer);\n",
       "      }\n",
       "    }, 10, root)\n",
       "  }\n",
       "})(window);"
      ],
      "application/vnd.bokehjs_exec.v0+json": ""
     },
     "metadata": {
      "application/vnd.bokehjs_exec.v0+json": {
       "id": "1459"
      }
     },
     "output_type": "display_data"
    }
   ],
   "source": [
    "p = figure(x_axis_type=\"datetime\", \n",
    "           plot_width=750, plot_height=400, \n",
    "           title = \"Zillow: Proportion of homes decreasing in value\")\n",
    "p.line(out.index.values, out.Value)\n",
    "\n",
    "show(p)"
   ]
  },
  {
   "cell_type": "code",
   "execution_count": 13,
   "metadata": {
    "slideshow": {
     "slide_type": "slide"
    }
   },
   "outputs": [
    {
     "data": {
      "text/html": [
       "<div>\n",
       "<style scoped>\n",
       "    .dataframe tbody tr th:only-of-type {\n",
       "        vertical-align: middle;\n",
       "    }\n",
       "\n",
       "    .dataframe tbody tr th {\n",
       "        vertical-align: top;\n",
       "    }\n",
       "\n",
       "    .dataframe thead th {\n",
       "        text-align: right;\n",
       "    }\n",
       "</style>\n",
       "<table border=\"1\" class=\"dataframe\">\n",
       "  <thead>\n",
       "    <tr style=\"text-align: right;\">\n",
       "      <th></th>\n",
       "      <th>ticker</th>\n",
       "      <th>date</th>\n",
       "      <th>adj_close</th>\n",
       "    </tr>\n",
       "    <tr>\n",
       "      <th>None</th>\n",
       "      <th></th>\n",
       "      <th></th>\n",
       "      <th></th>\n",
       "    </tr>\n",
       "  </thead>\n",
       "  <tbody>\n",
       "    <tr>\n",
       "      <td>7110</td>\n",
       "      <td>AA</td>\n",
       "      <td>2016-11-07</td>\n",
       "      <td>25.08</td>\n",
       "    </tr>\n",
       "    <tr>\n",
       "      <td>7111</td>\n",
       "      <td>AA</td>\n",
       "      <td>2016-11-04</td>\n",
       "      <td>25.20</td>\n",
       "    </tr>\n",
       "    <tr>\n",
       "      <td>7112</td>\n",
       "      <td>AA</td>\n",
       "      <td>2016-11-03</td>\n",
       "      <td>24.15</td>\n",
       "    </tr>\n",
       "    <tr>\n",
       "      <td>7113</td>\n",
       "      <td>AA</td>\n",
       "      <td>2016-11-02</td>\n",
       "      <td>22.91</td>\n",
       "    </tr>\n",
       "    <tr>\n",
       "      <td>7114</td>\n",
       "      <td>AA</td>\n",
       "      <td>2016-11-01</td>\n",
       "      <td>23.00</td>\n",
       "    </tr>\n",
       "  </tbody>\n",
       "</table>\n",
       "</div>"
      ],
      "text/plain": [
       "     ticker       date  adj_close\n",
       "None                             \n",
       "7110     AA 2016-11-07      25.08\n",
       "7111     AA 2016-11-04      25.20\n",
       "7112     AA 2016-11-03      24.15\n",
       "7113     AA 2016-11-02      22.91\n",
       "7114     AA 2016-11-01      23.00"
      ]
     },
     "execution_count": 13,
     "metadata": {},
     "output_type": "execute_result"
    }
   ],
   "source": [
    "quandl.ApiConfig.api_key = m.apikeys['quandl']\n",
    "\n",
    "# get the table for daily stock prices and,\n",
    "# filter the table for selected tickers, columns within a time range\n",
    "# set paginate to True because Quandl limits tables API to 10,000 rows per call\n",
    "\n",
    "symbols = ['AA','AXP','BA','BAC','CAT',\n",
    "           'CSCO','CVX','DD','DIS','GE',\n",
    "           'HD','HPQ','IBM','INTC','JNJ',\n",
    "           'JPM','KFT','KO','MCD','MMM',\n",
    "           'MRK','MSFT','PFE','PG','T',\n",
    "           'TRV','UTX','VZ','WMT','XOM']\n",
    "\n",
    "data = quandl.get_table('WIKI/PRICES', ticker = symbols, \n",
    "                        qopts = { 'columns': ['ticker', 'date', 'adj_close'] }, \n",
    "                        date = { 'gte': '2015-12-31', 'lte': '2016-12-31' }, \n",
    "                        paginate=True)\n",
    "data.tail()"
   ]
  },
  {
   "cell_type": "code",
   "execution_count": 11,
   "metadata": {
    "slideshow": {
     "slide_type": "fragment"
    }
   },
   "outputs": [
    {
     "data": {
      "text/plain": [
       "array(['XOM', 'WMT', 'VZ', 'UTX', 'TRV', 'T', 'PG', 'PFE', 'MSFT', 'MRK',\n",
       "       'MMM', 'MCD', 'KO', 'JPM', 'JNJ', 'INTC', 'IBM', 'HPQ', 'HD', 'GE',\n",
       "       'DIS', 'DD', 'CVX', 'CSCO', 'CAT', 'BAC', 'BA', 'AXP', 'AA'],\n",
       "      dtype=object)"
      ]
     },
     "execution_count": 11,
     "metadata": {},
     "output_type": "execute_result"
    }
   ],
   "source": [
    "data['ticker'].unique()"
   ]
  },
  {
   "cell_type": "code",
   "execution_count": null,
   "metadata": {},
   "outputs": [],
   "source": []
  }
 ],
 "metadata": {
  "celltoolbar": "Slideshow",
  "kernelspec": {
   "display_name": "Python 3",
   "language": "python",
   "name": "python3"
  },
  "language_info": {
   "codemirror_mode": {
    "name": "ipython",
    "version": 3
   },
   "file_extension": ".py",
   "mimetype": "text/x-python",
   "name": "python",
   "nbconvert_exporter": "python",
   "pygments_lexer": "ipython3",
   "version": "3.7.3"
  },
  "toc": {
   "base_numbering": 1,
   "nav_menu": {},
   "number_sections": false,
   "sideBar": true,
   "skip_h1_title": false,
   "title_cell": "Table of Contents",
   "title_sidebar": "Contents",
   "toc_cell": false,
   "toc_position": {
    "height": "calc(100% - 180px)",
    "left": "10px",
    "top": "150px",
    "width": "240.933px"
   },
   "toc_section_display": true,
   "toc_window_display": true
  }
 },
 "nbformat": 4,
 "nbformat_minor": 4
}
